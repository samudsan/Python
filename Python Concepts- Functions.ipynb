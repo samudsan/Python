{
 "cells": [
  {
   "cell_type": "markdown",
   "metadata": {},
   "source": [
    "### Docstring:\n",
    "\n",
    "The first statement in the body of a function is usually a string, which can be accessed with function_name.__doc__\n",
    "This statement is called Docstring. "
   ]
  },
  {
   "cell_type": "code",
   "execution_count": 8,
   "metadata": {},
   "outputs": [
    {
     "name": "stdout",
     "output_type": "stream",
     "text": [
      "The docstring of the function Hello is : I will greet \n"
     ]
    }
   ],
   "source": [
    "def Hello(name=\"everybody\"):\n",
    "    \"\"\"I will greet \"\"\"\n",
    "    print(\"Hello \" + name + \"!\")\n",
    "\n",
    "print(\"The docstring of the function Hello is : \" + Hello.__doc__)\n"
   ]
  },
  {
   "cell_type": "code",
   "execution_count": 10,
   "metadata": {},
   "outputs": [
    {
     "name": "stdout",
     "output_type": "stream",
     "text": [
      "None\n"
     ]
    }
   ],
   "source": [
    "# if we return nothing, python functions will return None\n",
    "def no_return(x,y):\n",
    "    c = x + y\n",
    "\n",
    "res = no_return(4,5)\n",
    "print(res)"
   ]
  },
  {
   "cell_type": "code",
   "execution_count": 11,
   "metadata": {},
   "outputs": [
    {
     "name": "stdout",
     "output_type": "stream",
     "text": [
      "None\n"
     ]
    }
   ],
   "source": [
    "# if we return nothing, python functions will return None\n",
    "def no_return(x,y):\n",
    "    c = x + y\n",
    "    return\n",
    "\n",
    "res = no_return(4,5)\n",
    "print(res)"
   ]
  },
  {
   "cell_type": "code",
   "execution_count": 12,
   "metadata": {},
   "outputs": [
    {
     "name": "stdout",
     "output_type": "stream",
     "text": [
      "cat\n",
      "dog\n",
      "dog\n"
     ]
    }
   ],
   "source": [
    "# Global and Local Varibles.\n",
    "def f():\n",
    "    global s\n",
    "    print(s)\n",
    "    s = \"dog\"\n",
    "    print(s) \n",
    "s = \"cat\" \n",
    "f()\n",
    "print(s)"
   ]
  },
  {
   "cell_type": "markdown",
   "metadata": {},
   "source": [
    "In above code snippet We made the variable s global inside of the script on the left side. Therefore anything we do to s inside of the function body of f is done to the global variable s outside of f."
   ]
  },
  {
   "cell_type": "markdown",
   "metadata": {},
   "source": [
    "### Arbitrary Number of Parameters### \n",
    "An arbitrary parameter number can be accomplished in Python with so-called tuple references. An asterisk \"*\" is used in front of the last parameter name to denote it as a tuple reference"
   ]
  },
  {
   "cell_type": "code",
   "execution_count": 13,
   "metadata": {},
   "outputs": [
    {
     "name": "stdout",
     "output_type": "stream",
     "text": [
      "61.0\n",
      "42502.3275\n",
      "38.5\n",
      "45.0\n"
     ]
    }
   ],
   "source": [
    "def arithmetic_mean(first, *values):\n",
    "    \"\"\" This function calculates the arithmetic mean of a non-empty\n",
    "        arbitrary number of numerical values \"\"\"\n",
    "\n",
    "    return (first + sum(values)) / (1 + len(values))\n",
    "\n",
    "print(arithmetic_mean(45,32,89,78))\n",
    "print(arithmetic_mean(8989.8,78787.78,3453,78778.73))\n",
    "print(arithmetic_mean(45,32))\n",
    "print(arithmetic_mean(45))\n",
    "\n"
   ]
  },
  {
   "cell_type": "markdown",
   "metadata": {},
   "source": [
    "### Unpacking "
   ]
  },
  {
   "cell_type": "code",
   "execution_count": 15,
   "metadata": {},
   "outputs": [],
   "source": [
    "my_list = [('a', 232), \n",
    "           ('b', 343), \n",
    "           ('c', 543), \n",
    "           ('d', 23)]\n",
    "# if we want to turn this as below we have to use  *-operator and the zip function\n",
    "#[('a', 'b', 'c', 'd'), (232, 343, 543, 23)]"
   ]
  },
  {
   "cell_type": "code",
   "execution_count": 22,
   "metadata": {},
   "outputs": [
    {
     "name": "stdout",
     "output_type": "stream",
     "text": [
      "[('a', 'b', 'c', 'd'), (232, 343, 543, 23)]\n"
     ]
    },
    {
     "data": {
      "text/plain": [
       "[('a', 232), ('b', 343), ('c', 543), ('d', 23)]"
      ]
     },
     "execution_count": 22,
     "metadata": {},
     "output_type": "execute_result"
    }
   ],
   "source": [
    "x = list(zip(*my_list))\n",
    "print(x)\n",
    "list(zip(*x))"
   ]
  },
  {
   "cell_type": "markdown",
   "metadata": {},
   "source": [
    "### Arbitrary Number of Keyword Parameters\n",
    "It is also possible to pass an arbitrary number of keyword parameters to a function. To this purpose, we have to use the double asterisk \"**\" "
   ]
  },
  {
   "cell_type": "code",
   "execution_count": 23,
   "metadata": {},
   "outputs": [
    {
     "name": "stdout",
     "output_type": "stream",
     "text": [
      "{}\n"
     ]
    }
   ],
   "source": [
    "def f(**kwargs):\n",
    "    print(kwargs)\n",
    "f()"
   ]
  },
  {
   "cell_type": "code",
   "execution_count": 24,
   "metadata": {},
   "outputs": [
    {
     "name": "stdout",
     "output_type": "stream",
     "text": [
      "{'de': 'German', 'en': 'English', 'fr': 'French'}\n"
     ]
    }
   ],
   "source": [
    "f(de=\"German\",en=\"English\",fr=\"French\")\n"
   ]
  },
  {
   "cell_type": "code",
   "execution_count": 25,
   "metadata": {},
   "outputs": [
    {
     "name": "stdout",
     "output_type": "stream",
     "text": [
      "append block extract yes\n"
     ]
    }
   ],
   "source": [
    "def f(a,b,x,y):\n",
    "    print(a,b,x,y)\n",
    "\n",
    "d = {'a':'append', 'b':'block','x':'extract','y':'yes'}\n",
    "f(**d)"
   ]
  },
  {
   "cell_type": "code",
   "execution_count": null,
   "metadata": {},
   "outputs": [],
   "source": []
  },
  {
   "cell_type": "markdown",
   "metadata": {},
   "source": [
    "Ref : https://www.python-course.eu/python3_functions.php"
   ]
  }
 ],
 "metadata": {
  "kernelspec": {
   "display_name": "Python 3",
   "language": "python",
   "name": "python3"
  },
  "language_info": {
   "codemirror_mode": {
    "name": "ipython",
    "version": 3
   },
   "file_extension": ".py",
   "mimetype": "text/x-python",
   "name": "python",
   "nbconvert_exporter": "python",
   "pygments_lexer": "ipython3",
   "version": "3.6.5"
  },
  "varInspector": {
   "cols": {
    "lenName": 16,
    "lenType": 16,
    "lenVar": 40
   },
   "kernels_config": {
    "python": {
     "delete_cmd_postfix": "",
     "delete_cmd_prefix": "del ",
     "library": "var_list.py",
     "varRefreshCmd": "print(var_dic_list())"
    },
    "r": {
     "delete_cmd_postfix": ") ",
     "delete_cmd_prefix": "rm(",
     "library": "var_list.r",
     "varRefreshCmd": "cat(var_dic_list()) "
    }
   },
   "types_to_exclude": [
    "module",
    "function",
    "builtin_function_or_method",
    "instance",
    "_Feature"
   ],
   "window_display": false
  }
 },
 "nbformat": 4,
 "nbformat_minor": 2
}
