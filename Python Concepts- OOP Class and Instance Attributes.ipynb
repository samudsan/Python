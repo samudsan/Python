{
 "cells": [
  {
   "cell_type": "code",
   "execution_count": 5,
   "metadata": {},
   "outputs": [
    {
     "name": "stdout",
     "output_type": "stream",
     "text": [
      "10 10 10\n",
      "10 20 10\n",
      "30 20 30\n"
     ]
    }
   ],
   "source": [
    "class A:\n",
    "    a = 10 #\"I am a class attribute!\"\n",
    "    \n",
    "x = A()\n",
    "y = A()\n",
    "\n",
    "print(A.a, x.a, y.a)\n",
    "x.a = 20 #creates new instance specific attribute\n",
    "print(A.a, x.a, y.a)\n",
    "A.a = 30 \n",
    "print(A.a, x.a, y.a)\n"
   ]
  },
  {
   "cell_type": "code",
   "execution_count": 9,
   "metadata": {},
   "outputs": [
    {
     "name": "stdout",
     "output_type": "stream",
     "text": [
      "{'a': 20}\n",
      "{}\n",
      "{'__module__': '__main__', 'a': 30, '__dict__': <attribute '__dict__' of 'A' objects>, '__weakref__': <attribute '__weakref__' of 'A' objects>, '__doc__': None}\n"
     ]
    }
   ],
   "source": [
    "print(x.__dict__)\n",
    "print(y.__dict__)\n",
    "print(A.__dict__)"
   ]
  },
  {
   "cell_type": "markdown",
   "metadata": {},
   "source": [
    "#### Example to illustrate class attributes"
   ]
  },
  {
   "cell_type": "markdown",
   "metadata": {},
   "source": [
    " We demonstrate in the following example, how you can count instance with class attributes. All we have to do is \n",
    "    \n",
    "    \n",
    "    to create a class attribute, which we call \"counter\" in our example\n",
    "    to increment this attribute by 1 every time a new instance will be create\n",
    "    to decrement the attribute by 1 every time an instance will be destroyed\n"
   ]
  },
  {
   "cell_type": "code",
   "execution_count": 10,
   "metadata": {},
   "outputs": [
    {
     "name": "stdout",
     "output_type": "stream",
     "text": [
      "Number of instances: : 1\n",
      "Number of instances: : 2\n",
      "Number of instances: : 1\n",
      "Number of instances: : 0\n"
     ]
    }
   ],
   "source": [
    "class C: \n",
    "\n",
    "    counter = 0\n",
    "    \n",
    "    def __init__(self): \n",
    "        type(self).counter += 1\n",
    "\n",
    "    def __del__(self):\n",
    "        type(self).counter -= 1\n",
    "\n",
    "if __name__ == \"__main__\":\n",
    "    x = C()\n",
    "    print(\"Number of instances: : \" + str(C.counter))\n",
    "    y = C()\n",
    "    print(\"Number of instances: : \" + str(C.counter))\n",
    "    del x\n",
    "    print(\"Number of instances: : \" + str(C.counter))\n",
    "    del y\n",
    "    print(\"Number of instances: : \" + str(C.counter))"
   ]
  },
  {
   "cell_type": "markdown",
   "metadata": {},
   "source": [
    "### Static Methods"
   ]
  },
  {
   "cell_type": "markdown",
   "metadata": {},
   "source": [
    "We used class attributes as public attributes in the previous section. Of course, we can make public attributes private as well. We can do this by adding the double underscore again. If we do so, we need a possibility to access and change these private class attributes. We could use instance methods for this purpose: "
   ]
  },
  {
   "cell_type": "code",
   "execution_count": 11,
   "metadata": {},
   "outputs": [
    {
     "name": "stdout",
     "output_type": "stream",
     "text": [
      "1\n",
      "2\n"
     ]
    }
   ],
   "source": [
    "class Robot:\n",
    "    __counter = 0\n",
    "    \n",
    "    def __init__(self):\n",
    "        type(self).__counter += 1\n",
    "        \n",
    "    def RobotInstances(self):\n",
    "        return Robot.__counter\n",
    "        \n",
    "\n",
    "if __name__ == \"__main__\":\n",
    "    x = Robot()\n",
    "    print(x.RobotInstances())\n",
    "    y = Robot()\n",
    "    print(x.RobotInstances())"
   ]
  },
  {
   "cell_type": "markdown",
   "metadata": {},
   "source": [
    "This is not a good idea for two reasons: First of all, because the number of robots has nothing to do with a single robot instance and secondly because we can't inquire the number of robots before we haven't created an instance.\n",
    "If we try to invoke the method with the class name Robot.RobotInstances(), we get an error message, because it needs an instance as an argument: "
   ]
  },
  {
   "cell_type": "code",
   "execution_count": 12,
   "metadata": {},
   "outputs": [
    {
     "ename": "TypeError",
     "evalue": "RobotInstances() missing 1 required positional argument: 'self'",
     "output_type": "error",
     "traceback": [
      "\u001b[0;31m---------------------------------------------------------------------------\u001b[0m",
      "\u001b[0;31mTypeError\u001b[0m                                 Traceback (most recent call last)",
      "\u001b[0;32m<ipython-input-12-f53600e3296e>\u001b[0m in \u001b[0;36m<module>\u001b[0;34m()\u001b[0m\n\u001b[0;32m----> 1\u001b[0;31m \u001b[0mRobot\u001b[0m\u001b[0;34m.\u001b[0m\u001b[0mRobotInstances\u001b[0m\u001b[0;34m(\u001b[0m\u001b[0;34m)\u001b[0m\u001b[0;34m\u001b[0m\u001b[0m\n\u001b[0m",
      "\u001b[0;31mTypeError\u001b[0m: RobotInstances() missing 1 required positional argument: 'self'"
     ]
    }
   ],
   "source": [
    "Robot.RobotInstances()"
   ]
  },
  {
   "cell_type": "code",
   "execution_count": 15,
   "metadata": {},
   "outputs": [
    {
     "name": "stdout",
     "output_type": "stream",
     "text": [
      "0\n"
     ]
    },
    {
     "ename": "TypeError",
     "evalue": "RobotInstances() takes 0 positional arguments but 1 was given",
     "output_type": "error",
     "traceback": [
      "\u001b[0;31m---------------------------------------------------------------------------\u001b[0m",
      "\u001b[0;31mTypeError\u001b[0m                                 Traceback (most recent call last)",
      "\u001b[0;32m<ipython-input-15-b1deadd518ef>\u001b[0m in \u001b[0;36m<module>\u001b[0;34m()\u001b[0m\n\u001b[1;32m     12\u001b[0m \u001b[0mprint\u001b[0m\u001b[0;34m(\u001b[0m\u001b[0mRobot\u001b[0m\u001b[0;34m.\u001b[0m\u001b[0mRobotInstances\u001b[0m\u001b[0;34m(\u001b[0m\u001b[0;34m)\u001b[0m\u001b[0;34m)\u001b[0m\u001b[0;34m\u001b[0m\u001b[0m\n\u001b[1;32m     13\u001b[0m \u001b[0mx\u001b[0m \u001b[0;34m=\u001b[0m \u001b[0mRobot\u001b[0m\u001b[0;34m(\u001b[0m\u001b[0;34m)\u001b[0m\u001b[0;34m\u001b[0m\u001b[0m\n\u001b[0;32m---> 14\u001b[0;31m \u001b[0mx\u001b[0m\u001b[0;34m.\u001b[0m\u001b[0mRobotInstances\u001b[0m\u001b[0;34m(\u001b[0m\u001b[0;34m)\u001b[0m\u001b[0;34m\u001b[0m\u001b[0m\n\u001b[0m",
      "\u001b[0;31mTypeError\u001b[0m: RobotInstances() takes 0 positional arguments but 1 was given"
     ]
    }
   ],
   "source": [
    "# The next idea, which still doesn't solve our problem, consists in omitting the parameter \"self\": \n",
    "\n",
    "class Robot:\n",
    "    __counter = 0\n",
    "    \n",
    "    def __init__(self):\n",
    "        type(self).__counter += 1\n",
    "        \n",
    "    def RobotInstances():\n",
    "        return Robot.__counter\n",
    "#Now it's possible to access the method via the class name, but we can't call it via an instance: \n",
    "print(Robot.RobotInstances())\n",
    "x = Robot()\n",
    "x.RobotInstances()"
   ]
  },
  {
   "cell_type": "markdown",
   "metadata": {},
   "source": [
    "The call \"x.RobotInstances()\" is treated as an instance method call and an instance method needs a reference to the instance as the first parameter.\n",
    "\n",
    "So, what do we want? We want a method, which we can call via the class name or via the instance name without the necessity of passing a reference to an instance to it.\n",
    "\n",
    "The solution consists in static methods, which don't need a reference to an instance.\n",
    "It's easy to turn a method into a static method. All we have to do is to add a line with \"@staticmethod\" directly in front of the method header. It's the decorator syntax.\n",
    "\n",
    "You can see in the following example that we can now use our method RobotInstances the way we wanted: "
   ]
  },
  {
   "cell_type": "code",
   "execution_count": 16,
   "metadata": {},
   "outputs": [
    {
     "name": "stdout",
     "output_type": "stream",
     "text": [
      "0\n",
      "1\n",
      "2\n",
      "2\n"
     ]
    }
   ],
   "source": [
    "class Robot:\n",
    "    __counter = 0\n",
    "    \n",
    "    def __init__(self):\n",
    "        type(self).__counter += 1\n",
    "        \n",
    "    @staticmethod\n",
    "    def RobotInstances():\n",
    "        return Robot.__counter\n",
    "        \n",
    "\n",
    "if __name__ == \"__main__\":\n",
    "    print(Robot.RobotInstances())\n",
    "    x = Robot()\n",
    "    print(x.RobotInstances())\n",
    "    y = Robot()\n",
    "    print(x.RobotInstances())\n",
    "    print(Robot.RobotInstances())"
   ]
  },
  {
   "cell_type": "markdown",
   "metadata": {},
   "source": [
    "### Class Methods"
   ]
  },
  {
   "cell_type": "markdown",
   "metadata": {},
   "source": [
    "Static methods shouldn't be confused with class methods. Like static methods class methods are not bound to instances, but unlike static methods class methods are bound to a class. The first parameter of a class method is a reference to a class, i.e. a class object. They can be called via an instance or the class name. "
   ]
  },
  {
   "cell_type": "code",
   "execution_count": 17,
   "metadata": {},
   "outputs": [
    {
     "name": "stdout",
     "output_type": "stream",
     "text": [
      "(<class '__main__.Robot'>, 0)\n",
      "(<class '__main__.Robot'>, 1)\n",
      "(<class '__main__.Robot'>, 2)\n",
      "(<class '__main__.Robot'>, 2)\n"
     ]
    }
   ],
   "source": [
    "class Robot:\n",
    "    __counter = 0\n",
    "    \n",
    "    def __init__(self):\n",
    "        type(self).__counter += 1\n",
    "        \n",
    "    @classmethod\n",
    "    def RobotInstances(cls):\n",
    "        return cls, Robot.__counter\n",
    "        \n",
    "\n",
    "if __name__ == \"__main__\":\n",
    "    print(Robot.RobotInstances())\n",
    "    x = Robot()\n",
    "    print(x.RobotInstances())\n",
    "    y = Robot()\n",
    "    print(x.RobotInstances())\n",
    "    print(Robot.RobotInstances())"
   ]
  },
  {
   "cell_type": "markdown",
   "metadata": {},
   "source": [
    "### Class Methods vs. Static Methods and Instance Methods"
   ]
  },
  {
   "cell_type": "code",
   "execution_count": 18,
   "metadata": {},
   "outputs": [
    {
     "name": "stdout",
     "output_type": "stream",
     "text": [
      "This class is about pet animals!\n",
      "This class is about man's best friends!\n",
      "This class is about all kinds of cats!\n"
     ]
    }
   ],
   "source": [
    "class Pet:\n",
    "    _class_info = \"pet animals\"\n",
    "\n",
    "    def about(self):\n",
    "        print(\"This class is about \" + self._class_info + \"!\")   \n",
    "    \n",
    "\n",
    "class Dog(Pet):\n",
    "    _class_info = \"man's best friends\"\n",
    "\n",
    "class Cat(Pet):\n",
    "    _class_info = \"all kinds of cats\"\n",
    "\n",
    "p = Pet()\n",
    "p.about()\n",
    "d = Dog()\n",
    "d.about()\n",
    "c = Cat()\n",
    "c.about()"
   ]
  },
  {
   "cell_type": "code",
   "execution_count": 19,
   "metadata": {},
   "outputs": [
    {
     "name": "stdout",
     "output_type": "stream",
     "text": [
      "This class is about pet animals!\n",
      "This class is about pet animals!\n",
      "This class is about pet animals!\n"
     ]
    }
   ],
   "source": [
    "# can we simply get the above output using \"Pet.about(p)\", \"Dog.about(d)\" and \"Cat.about(c)\" instead.\n",
    "# lets try\n",
    "\n",
    "class Pet:\n",
    "    _class_info = \"pet animals\"\n",
    "\n",
    "    @staticmethod \n",
    "    def about():\n",
    "        print(\"This class is about \" + Pet._class_info + \"!\")   \n",
    "    \n",
    "\n",
    "class Dog(Pet):\n",
    "    _class_info = \"man's best friends\"\n",
    "\n",
    "class Cat(Pet):\n",
    "    _class_info = \"all kinds of cats\"\n",
    "\n",
    "Pet.about()\n",
    "Dog.about()\n",
    "Cat.about()\n",
    "\n",
    "#The problem is that the method \"about\" does not know that it has been called via the Pet\n",
    "#, the Dog or the Cat class. "
   ]
  },
  {
   "cell_type": "code",
   "execution_count": 20,
   "metadata": {},
   "outputs": [
    {
     "name": "stdout",
     "output_type": "stream",
     "text": [
      "This class is about pet animals!\n",
      "This class is about man's best friends!\n",
      "This class is about all kinds of cats!\n"
     ]
    }
   ],
   "source": [
    "# A classmethod is the solution to all our problems. We will decorate \"about\" with a \n",
    "#classmethod decorator instead of a staticmethod decorator: \n",
    "class Pet:\n",
    "    _class_info = \"pet animals\"\n",
    "\n",
    "    @classmethod\n",
    "    def about(cls):\n",
    "        print(\"This class is about \" + cls._class_info + \"!\")   \n",
    "    \n",
    "\n",
    "class Dog(Pet):\n",
    "    _class_info = \"man's best friends\"\n",
    "\n",
    "class Cat(Pet):\n",
    "    _class_info = \"all kinds of cats\"\n",
    "\n",
    "Pet.about()\n",
    "Dog.about()\n",
    "Cat.about()\n"
   ]
  },
  {
   "cell_type": "code",
   "execution_count": null,
   "metadata": {},
   "outputs": [],
   "source": []
  },
  {
   "cell_type": "code",
   "execution_count": null,
   "metadata": {},
   "outputs": [],
   "source": []
  },
  {
   "cell_type": "code",
   "execution_count": null,
   "metadata": {},
   "outputs": [],
   "source": []
  },
  {
   "cell_type": "code",
   "execution_count": null,
   "metadata": {},
   "outputs": [],
   "source": []
  },
  {
   "cell_type": "markdown",
   "metadata": {},
   "source": [
    "Ref : https://www.python-course.eu/python3_class_and_instance_attributes.php"
   ]
  }
 ],
 "metadata": {
  "kernelspec": {
   "display_name": "Python 3",
   "language": "python",
   "name": "python3"
  },
  "language_info": {
   "codemirror_mode": {
    "name": "ipython",
    "version": 3
   },
   "file_extension": ".py",
   "mimetype": "text/x-python",
   "name": "python",
   "nbconvert_exporter": "python",
   "pygments_lexer": "ipython3",
   "version": "3.6.5"
  },
  "varInspector": {
   "cols": {
    "lenName": 16,
    "lenType": 16,
    "lenVar": 40
   },
   "kernels_config": {
    "python": {
     "delete_cmd_postfix": "",
     "delete_cmd_prefix": "del ",
     "library": "var_list.py",
     "varRefreshCmd": "print(var_dic_list())"
    },
    "r": {
     "delete_cmd_postfix": ") ",
     "delete_cmd_prefix": "rm(",
     "library": "var_list.r",
     "varRefreshCmd": "cat(var_dic_list()) "
    }
   },
   "types_to_exclude": [
    "module",
    "function",
    "builtin_function_or_method",
    "instance",
    "_Feature"
   ],
   "window_display": false
  }
 },
 "nbformat": 4,
 "nbformat_minor": 2
}
