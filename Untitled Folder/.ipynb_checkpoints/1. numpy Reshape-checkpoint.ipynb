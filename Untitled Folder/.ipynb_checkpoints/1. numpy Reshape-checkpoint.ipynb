{
 "cells": [
  {
   "cell_type": "markdown",
   "metadata": {},
   "source": [
    "The criterion to satisfy for providing the new shape is that 'The new shape should be compatible with the original shape'\n",
    "\n",
    "numpy allow us to give one of new shape parameter as -1 (eg: (2,-1) or (-1,3) but not (-1, -1)). It simply means that it is an unknown dimension and we want numpy to figure it out. And numpy will figure this by looking at the 'length of the array and remaining dimensions' and making sure it satisfies the above mentioned criteria\n",
    "\n",
    "Now see the example.\n",
    "\n",
    "\n",
    "z.reshape(-1)\n",
    "array([ 1,  2,  3,  4,  5,  6,  7,  8,  9, 10, 11, 12])\n",
    "Now trying to reshape with (-1, 1) . We have provided column as 1 but rows as unknown . So we get result new shape as (12, 1).again compatible with original shape(3,4)\n",
    "\n",
    "z.reshape(-1,1)\n",
    "array([[ 1],\n",
    "   [ 2],\n",
    "   [ 3],\n",
    "   [ 4],\n",
    "   [ 5],\n",
    "   [ 6],\n",
    "   [ 7],\n",
    "   [ 8],\n",
    "   [ 9],\n",
    "   [10],\n",
    "   [11],\n",
    "   [12]])\n",
    "New shape as (-1, 2). row unknown, column 2. we get result new shape as (6, 2)\n",
    "\n",
    "z.reshape(-1, 2)\n",
    "array([[ 1,  2],\n",
    "   [ 3,  4],\n",
    "   [ 5,  6],\n",
    "   [ 7,  8],\n",
    "   [ 9, 10],\n",
    "   [11, 12]])\n",
    "Now trying to keep column as unknown. New shape as (1,-1). i.e, row is 1, column unknown. we get result new shape as (1, 12)\n",
    "\n",
    "z.reshape(1,-1)\n",
    "array([[ 1,  2,  3,  4,  5,  6,  7,  8,  9, 10, 11, 12]])\n",
    "New shape (2, -1). Row 2, column unknown. we get result new shape as (2,6)\n",
    "\n",
    "z.reshape(2, -1)\n",
    "array([[ 1,  2,  3,  4,  5,  6],\n",
    "   [ 7,  8,  9, 10, 11, 12]])\n",
    "New shape as (3, -1). Row 3, column unknown.mwe get result new shape as (3,4)\n",
    "\n",
    "z.reshape(3, -1)\n",
    "array([[ 1,  2,  3,  4],\n",
    "   [ 5,  6,  7,  8],\n",
    "   [ 9, 10, 11, 12]])\n",
    "And finally, if we try to provide both dimension as unknown i.e new shape as (-1,-1). It will throw an error\n",
    "\n",
    "z.reshape(-1, -1)\n",
    "ValueError: can only specify one unknown dimension"
   ]
  },
  {
   "cell_type": "code",
   "execution_count": 2,
   "metadata": {},
   "outputs": [
    {
     "data": {
      "text/plain": [
       "(3, 4)"
      ]
     },
     "execution_count": 2,
     "metadata": {},
     "output_type": "execute_result"
    }
   ],
   "source": [
    "z = np.array([[1, 2, 3, 4],\n",
    "         [5, 6, 7, 8],\n",
    "         [9, 10, 11, 12]])\n",
    "z.shape\n"
   ]
  },
  {
   "cell_type": "code",
   "execution_count": null,
   "metadata": {},
   "outputs": [],
   "source": []
  }
 ],
 "metadata": {
  "kernelspec": {
   "display_name": "Python 3",
   "language": "python",
   "name": "python3"
  },
  "language_info": {
   "codemirror_mode": {
    "name": "ipython",
    "version": 3
   },
   "file_extension": ".py",
   "mimetype": "text/x-python",
   "name": "python",
   "nbconvert_exporter": "python",
   "pygments_lexer": "ipython3",
   "version": "3.6.5"
  },
  "varInspector": {
   "cols": {
    "lenName": 16,
    "lenType": 16,
    "lenVar": 40
   },
   "kernels_config": {
    "python": {
     "delete_cmd_postfix": "",
     "delete_cmd_prefix": "del ",
     "library": "var_list.py",
     "varRefreshCmd": "print(var_dic_list())"
    },
    "r": {
     "delete_cmd_postfix": ") ",
     "delete_cmd_prefix": "rm(",
     "library": "var_list.r",
     "varRefreshCmd": "cat(var_dic_list()) "
    }
   },
   "types_to_exclude": [
    "module",
    "function",
    "builtin_function_or_method",
    "instance",
    "_Feature"
   ],
   "window_display": false
  }
 },
 "nbformat": 4,
 "nbformat_minor": 2
}
