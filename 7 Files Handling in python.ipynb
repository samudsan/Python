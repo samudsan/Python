{
 "cells": [
  {
   "cell_type": "markdown",
   "metadata": {},
   "source": [
    "Python has several functions for creating, reading, updating, and deleting files.\n",
    "\n",
    "File operation:\n",
    "1. Open a file\n",
    "2. Read or write (delete files)\n",
    "3. Close the file"
   ]
  },
  {
   "cell_type": "markdown",
   "metadata": {},
   "source": [
    "### File Open"
   ]
  },
  {
   "cell_type": "markdown",
   "metadata": {},
   "source": [
    "The open() function takes two parameters; filename, and mode.\n",
    "\n",
    ">There are four different methods (modes) for opening a file:\n",
    "1. \"r\" - Read - Default value. Opens a file for reading, error if the file does not exist\n",
    "2. \"a\" - Append - Opens a file for appending, creates the file if it does not exist\n",
    "3. \"w\" - Write - Opens a file for writing, creates the file if it does not exist\n",
    "4. \"x\" - Create - Creates the specified file, returns an error if the file exists\n",
    "5. 't' Open in text mode. (default)\n",
    "6. 'b' Open in binary mode.\n",
    "7. '+' Open a file for updating (reading and writing)\n"
   ]
  },
  {
   "cell_type": "code",
   "execution_count": 25,
   "metadata": {},
   "outputs": [
    {
     "name": "stdout",
     "output_type": "stream",
     "text": [
      "This is just a text file\n",
      "and it was created to the python file handling\n",
      "\n"
     ]
    },
    {
     "data": {
      "text/plain": [
       "''"
      ]
     },
     "execution_count": 25,
     "metadata": {},
     "output_type": "execute_result"
    }
   ],
   "source": [
    "f = open(\"Files/test.txt\")\n",
    "print(f.read())  # It gives the entire file content as a strin"
   ]
  },
  {
   "cell_type": "markdown",
   "metadata": {},
   "source": [
    "The **readlines()** method returns a list of remaining lines of the entire file. All these reading method return empty values when end of file (EOF) is reached."
   ]
  },
  {
   "cell_type": "code",
   "execution_count": 30,
   "metadata": {},
   "outputs": [
    {
     "data": {
      "text/plain": [
       "'This is just a text file\\n'"
      ]
     },
     "execution_count": 30,
     "metadata": {},
     "output_type": "execute_result"
    }
   ],
   "source": [
    "f2 = open(\"Files/test.txt\")\n",
    "f2.readline() # it will print each line as an list elements"
   ]
  },
  {
   "cell_type": "markdown",
   "metadata": {},
   "source": [
    "### Closing a file"
   ]
  },
  {
   "cell_type": "code",
   "execution_count": 35,
   "metadata": {},
   "outputs": [],
   "source": [
    "f = open('Files/test.txt')\n",
    "f.close()"
   ]
  },
  {
   "cell_type": "code",
   "execution_count": 39,
   "metadata": {},
   "outputs": [],
   "source": [
    "# below menthod of closing file is safe and best practice\n",
    "try:\n",
    "   f = open(\"Files/test.txt\")\n",
    "   # doing Operations on f \n",
    "    \n",
    "finally:\n",
    "   f.close()"
   ]
  },
  {
   "cell_type": "markdown",
   "metadata": {},
   "source": [
    "### Writing to a File"
   ]
  },
  {
   "cell_type": "code",
   "execution_count": 42,
   "metadata": {},
   "outputs": [],
   "source": [
    "f = open(\"Files/tes2t.txt\", \"w\") #if file exist it will overrites with an empty file, if does not exist it will create\n",
    "f.write(\"I am printed using write fucntion file\\n\")\n",
    "f.write(\"Its good that you are here\\n\")\n",
    "f.close()"
   ]
  },
  {
   "cell_type": "markdown",
   "metadata": {},
   "source": [
    "### Reading From a File"
   ]
  },
  {
   "cell_type": "code",
   "execution_count": 44,
   "metadata": {},
   "outputs": [
    {
     "data": {
      "text/plain": [
       "'This is just a text file\\nand it was created to the python file handling\\n'"
      ]
     },
     "execution_count": 44,
     "metadata": {},
     "output_type": "execute_result"
    }
   ],
   "source": [
    "f = open(\"Files/test.txt\", \"r\")\n",
    "f.read()"
   ]
  },
  {
   "cell_type": "code",
   "execution_count": 46,
   "metadata": {},
   "outputs": [
    {
     "data": {
      "text/plain": [
       "'This is ju'"
      ]
     },
     "execution_count": 46,
     "metadata": {},
     "output_type": "execute_result"
    }
   ],
   "source": [
    "f = open(\"Files/test.txt\", \"r\")\n",
    "f.read(10)"
   ]
  },
  {
   "cell_type": "code",
   "execution_count": 62,
   "metadata": {},
   "outputs": [
    {
     "name": "stdout",
     "output_type": "stream",
     "text": [
      "This\n"
     ]
    },
    {
     "data": {
      "text/plain": [
       "4"
      ]
     },
     "execution_count": 62,
     "metadata": {},
     "output_type": "execute_result"
    }
   ],
   "source": [
    "f.seek(0) # changing cursor position to zero\n",
    "print(f.read(4))\n",
    "f.tell() # It will tells the current position of curser"
   ]
  },
  {
   "cell_type": "markdown",
   "metadata": {},
   "source": [
    "# Renaming And Deleting Files "
   ]
  },
  {
   "cell_type": "markdown",
   "metadata": {},
   "source": [
    "for doing renaming and deleting file we need to import os module in python."
   ]
  },
  {
   "cell_type": "code",
   "execution_count": 73,
   "metadata": {},
   "outputs": [
    {
     "ename": "FileNotFoundError",
     "evalue": "[Errno 2] No such file or directory: 'Files/tes2t.txt'",
     "output_type": "error",
     "traceback": [
      "\u001b[0;31m---------------------------------------------------------------------------\u001b[0m",
      "\u001b[0;31mFileNotFoundError\u001b[0m                         Traceback (most recent call last)",
      "\u001b[0;32m<ipython-input-73-5476695faf84>\u001b[0m in \u001b[0;36m<module>\u001b[0;34m()\u001b[0m\n\u001b[1;32m      1\u001b[0m \u001b[0;32mimport\u001b[0m \u001b[0mos\u001b[0m\u001b[0;34m\u001b[0m\u001b[0m\n\u001b[1;32m      2\u001b[0m \u001b[0;31m#os.rename(\"Files/test.txt\",\"Files/renamed.txt\") # it will rename the given file, if file not found it will throws error\u001b[0m\u001b[0;34m\u001b[0m\u001b[0;34m\u001b[0m\u001b[0m\n\u001b[0;32m----> 3\u001b[0;31m \u001b[0mos\u001b[0m\u001b[0;34m.\u001b[0m\u001b[0mremove\u001b[0m\u001b[0;34m(\u001b[0m\u001b[0;34m\"Files/tes2t.txt\"\u001b[0m\u001b[0;34m)\u001b[0m \u001b[0;31m# it will delete the file from OS\u001b[0m\u001b[0;34m\u001b[0m\u001b[0m\n\u001b[0m",
      "\u001b[0;31mFileNotFoundError\u001b[0m: [Errno 2] No such file or directory: 'Files/tes2t.txt'"
     ]
    }
   ],
   "source": [
    "import os\n",
    "#os.rename(\"Files/test.txt\",\"Files/renamed.txt\") # it will rename the given file, if file not found it will throws error\n",
    "os.remove(\"Files/tes2t.txt\") # it will delete the file from OS"
   ]
  },
  {
   "cell_type": "markdown",
   "metadata": {},
   "source": [
    "### Directories "
   ]
  },
  {
   "cell_type": "code",
   "execution_count": 78,
   "metadata": {},
   "outputs": [
    {
     "data": {
      "text/plain": [
       "['.git',\n",
       " '.ipynb_checkpoints',\n",
       " '1 Python Reference .ipynb',\n",
       " '2 Python Data Structures List.ipynb',\n",
       " '3 Python Data Structures Tuples.ipynb',\n",
       " '4 Python Data Structures Sets.ipynb',\n",
       " '5 Lambda(anonymous) function.ipynb',\n",
       " '6 Modules and packages in Python.ipynb',\n",
       " '7 Files Handling in python.ipynb',\n",
       " 'Files',\n",
       " 'README.md']"
      ]
     },
     "execution_count": 78,
     "metadata": {},
     "output_type": "execute_result"
    }
   ],
   "source": [
    "sorted(os.listdir(os.getcwd())) # it will give the list of files in present directory."
   ]
  },
  {
   "cell_type": "code",
   "execution_count": null,
   "metadata": {},
   "outputs": [],
   "source": [
    "os.mkdir(\"Files/MkDir\")\n",
    "f = open(\"Files/MkDir/tobeDeleted.txt\",\"w\")"
   ]
  },
  {
   "cell_type": "code",
   "execution_count": 97,
   "metadata": {},
   "outputs": [
    {
     "ename": "OSError",
     "evalue": "[Errno 39] Directory not empty: 'Files/MkDir'",
     "output_type": "error",
     "traceback": [
      "\u001b[0;31m---------------------------------------------------------------------------\u001b[0m",
      "\u001b[0;31mOSError\u001b[0m                                   Traceback (most recent call last)",
      "\u001b[0;32m<ipython-input-97-b764aa84b027>\u001b[0m in \u001b[0;36m<module>\u001b[0;34m()\u001b[0m\n\u001b[0;32m----> 1\u001b[0;31m \u001b[0mos\u001b[0m\u001b[0;34m.\u001b[0m\u001b[0mrmdir\u001b[0m\u001b[0;34m(\u001b[0m\u001b[0;34m'Files/MkDir'\u001b[0m\u001b[0;34m)\u001b[0m \u001b[0;31m# if files exist in the folder it will not work we need to use rmtree('test')\u001b[0m\u001b[0;34m\u001b[0m\u001b[0m\n\u001b[0m",
      "\u001b[0;31mOSError\u001b[0m: [Errno 39] Directory not empty: 'Files/MkDir'"
     ]
    }
   ],
   "source": [
    "os.rmdir('Files/MkDir') # if files exist in the folder it will not work we need to use rmtree('test')"
   ]
  },
  {
   "cell_type": "code",
   "execution_count": 107,
   "metadata": {},
   "outputs": [],
   "source": [
    "import shutil\n",
    "shutil.rmtree(\"Files/MkDir\") # this will delete not empty directories"
   ]
  }
 ],
 "metadata": {
  "kernelspec": {
   "display_name": "Python 3",
   "language": "python",
   "name": "python3"
  },
  "language_info": {
   "codemirror_mode": {
    "name": "ipython",
    "version": 3
   },
   "file_extension": ".py",
   "mimetype": "text/x-python",
   "name": "python",
   "nbconvert_exporter": "python",
   "pygments_lexer": "ipython3",
   "version": "3.6.5"
  },
  "varInspector": {
   "cols": {
    "lenName": 16,
    "lenType": 16,
    "lenVar": 40
   },
   "kernels_config": {
    "python": {
     "delete_cmd_postfix": "",
     "delete_cmd_prefix": "del ",
     "library": "var_list.py",
     "varRefreshCmd": "print(var_dic_list())"
    },
    "r": {
     "delete_cmd_postfix": ") ",
     "delete_cmd_prefix": "rm(",
     "library": "var_list.r",
     "varRefreshCmd": "cat(var_dic_list()) "
    }
   },
   "types_to_exclude": [
    "module",
    "function",
    "builtin_function_or_method",
    "instance",
    "_Feature"
   ],
   "window_display": false
  }
 },
 "nbformat": 4,
 "nbformat_minor": 2
}
