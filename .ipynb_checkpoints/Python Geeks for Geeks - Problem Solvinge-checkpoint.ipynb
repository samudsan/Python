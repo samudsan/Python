{
 "cells": [
  {
   "cell_type": "markdown",
   "metadata": {},
   "source": [
    "# Arrays\n",
    "\n",
    "https://www.geeksforgeeks.org/must-do-coding-questions-for-companies-like-amazon-microsoft-adobe/"
   ]
  },
  {
   "cell_type": "markdown",
   "metadata": {},
   "source": [
    "## 1. Find subarray with given sum (Nonnegative Numbers)\n",
    "\n",
    "Problem Statement: https://www.geeksforgeeks.org/find-subarray-with-given-sum/\n",
    "\n",
    "Given an unsorted array of nonnegative integers, find a continuous subarray which adds to a given number. \n"
   ]
  },
  {
   "cell_type": "markdown",
   "metadata": {},
   "source": [
    "#### Approach 1"
   ]
  },
  {
   "cell_type": "code",
   "execution_count": 2,
   "metadata": {
    "pixiedust": {
     "displayParams": {}
    }
   },
   "outputs": [
    {
     "name": "stdout",
     "output_type": "stream",
     "text": [
      "3 3\n",
      "4 6\n"
     ]
    }
   ],
   "source": [
    "list1 = [1,2,4,12,6,2,4]\n",
    "required_sum = 12 \n",
    "curr_sum = 0\n",
    "for i in range(0, len(list1)):\n",
    "    for j in range(i, len(list1)):\n",
    "        curr_sum += list1[j]\n",
    "        if(curr_sum > required_sum):\n",
    "            break\n",
    "        elif(curr_sum == required_sum):\n",
    "            print(i,j)\n",
    "            break\n",
    "    curr_sum = 0\n"
   ]
  },
  {
   "cell_type": "markdown",
   "metadata": {},
   "source": [
    "**Complexity Analysis:**\n",
    "\n",
    "    Time Complexity: O(n^2) in worst case.\n",
    "        Nested loop is used to traverse the array so the time complexity is O(n^2)\n",
    "    Space Complexity: O(1).\n",
    "        As constant extra space is required."
   ]
  },
  {
   "cell_type": "markdown",
   "metadata": {},
   "source": [
    "#### Approach 2\n",
    "using Sliding window concept. if sum is less than required sum we will add element, if it is greater we will element from begining"
   ]
  },
  {
   "cell_type": "code",
   "execution_count": 4,
   "metadata": {},
   "outputs": [
    {
     "name": "stdout",
     "output_type": "stream",
     "text": [
      "3 3\n",
      "4 6\n"
     ]
    }
   ],
   "source": [
    "list1 = [1,2,4,12,6,2,4]\n",
    "required_sum = 12 \n",
    "curr_sum = 0\n",
    "for i in range(0, len(list1)):\n",
    "        curr_sum += list1[i]\n",
    "        if(curr_sum > required_sum):\n",
    "            \n",
    "#         elif(curr_sum == required_sum):\n",
    "#             print(i,j)\n",
    "#             break\n",
    "            n = 0\n",
    "            while(n<i):\n",
    "                curr_sum -= list1[n]\n",
    "                if(curr_sum > required_sum):\n",
    "                    n += 1\n",
    "                elif(curr_sum == required_sum):\n",
    "                    print(i,n+1)\n",
    "                    break\n",
    "            n=i+1 # to check from (i+1)th item\n",
    "            curr_sum = 0\n",
    "        if(curr_sum == required_sum):\n",
    "                    print(n,i)"
   ]
  },
  {
   "cell_type": "code",
   "execution_count": 28,
   "metadata": {},
   "outputs": [
    {
     "name": "stdout",
     "output_type": "stream",
     "text": [
      "i am sandeep\n"
     ]
    }
   ],
   "source": [
    "string = \"i am sandeep\"\n",
    "print(*reversed(string.split()[::-1]))"
   ]
  },
  {
   "cell_type": "code",
   "execution_count": 29,
   "metadata": {},
   "outputs": [
    {
     "name": "stdout",
     "output_type": "stream",
     "text": [
      "4 6\n"
     ]
    }
   ],
   "source": [
    "# evethogh we used two for loops. Time complexity would be O(n)\n",
    "# second for loop runs only few times\n",
    "# it will not work for negative numbers.\n",
    "\n",
    "list1 = [1,2,4,12,6,2,4,7,5]\n",
    "required_sum = 12 \n",
    "curr_sum = list1[0]\n",
    "start = 0\n",
    "for i in range(1, len(list1)):\n",
    "    if curr_sum==required_sum:\n",
    "        print(start, i-1)\n",
    "    while(curr_sum>required_sum and start<i):\n",
    "        curr_sum-=list1[start]\n",
    "        start+=1\n",
    "    curr_sum+= list1[i]\n",
    "    \n"
   ]
  },
  {
   "cell_type": "markdown",
   "metadata": {},
   "source": [
    "### 2.  Count the triplets \n",
    "\n",
    "Problem Statement: https://practice.geeksforgeeks.org/problems/count-the-triplets/0\n",
    "\n",
    "we call triplets if sum of the two numbers in an array is also in that array. we need to count number of such triplets."
   ]
  },
  {
   "cell_type": "code",
   "execution_count": 5,
   "metadata": {},
   "outputs": [
    {
     "name": "stdout",
     "output_type": "stream",
     "text": [
      "2\n"
     ]
    }
   ],
   "source": [
    "list1 = [1,5,3,2]\n",
    "#list1 = [1,5,7,9] \n",
    "triplet_count = 0\n",
    "for i in range(len(list1)):\n",
    "    for j in range(i+1, len(list1)): # to check only (1,5) (1,3) (1,2) (5,3) (5,2) (3,2)\n",
    "        if list1[i]+list1[j] in list1:\n",
    "            triplet_count+=1\n",
    "if(triplet_count == 0 ):\n",
    "    print(-1)\n",
    "else: \n",
    "    print(triplet_count)"
   ]
  },
  {
   "cell_type": "markdown",
   "metadata": {},
   "source": [
    "### 3  Kadane's Algorithm \n",
    "\n",
    "problem statement: https://practice.geeksforgeeks.org/problems/kadanes-algorithm/0\n",
    "\n",
    "we have indentify max subarray sum\n",
    "Ex: Max subarray sum is 9 of elements (1, 2, 3, -2, 5) which is a contiguous subarray."
   ]
  },
  {
   "cell_type": "code",
   "execution_count": 1,
   "metadata": {},
   "outputs": [
    {
     "data": {
      "text/plain": [
       "9"
      ]
     },
     "execution_count": 1,
     "metadata": {},
     "output_type": "execute_result"
    }
   ],
   "source": [
    "# below will work if list has atleast one positive number.\n",
    "\n",
    "def max_subarray(numbers):\n",
    "    \"\"\"Find a contiguous subarray with the largest sum.\"\"\"\n",
    "    best_sum = 0  # or: float('-inf')\n",
    "    current_sum = 0\n",
    "    for x in numbers:\n",
    "        current_sum = max(0, current_sum + x)\n",
    "        best_sum = max(best_sum, current_sum)\n",
    "    return best_sum\n",
    "max_subarray([1, 2, 3, -2, 5])"
   ]
  },
  {
   "cell_type": "code",
   "execution_count": 31,
   "metadata": {},
   "outputs": [
    {
     "data": {
      "text/plain": [
       "(4, 4, 5)"
      ]
     },
     "execution_count": 31,
     "metadata": {},
     "output_type": "execute_result"
    }
   ],
   "source": [
    "def max_subarray(numbers):\n",
    "    \n",
    "    \"\"\"Find a contiguous subarray with the largest sum.\"\"\"\n",
    "    best_sum = float('-inf')\n",
    "    best_start = best_end = None\n",
    "    current_sum = float('-inf')\n",
    "    for current_end, x in enumerate(numbers):\n",
    "        if current_sum <= 0:\n",
    "            # Start a new sequence at the current element\n",
    "            current_start = current_end\n",
    "            current_sum = x\n",
    "        else:\n",
    "            # Extend the existing sequence with the current element\n",
    "            current_sum += x\n",
    "        if current_sum > best_sum:\n",
    "            best_sum = current_sum\n",
    "            best_start = current_start\n",
    "            best_end = current_end + 1  # the +1 is to make 'best_end' exclusive\n",
    "\n",
    "    return best_sum, best_start, best_end\n",
    "\n",
    "max_subarray([2, -1, 2, -3, 4])"
   ]
  },
  {
   "cell_type": "code",
   "execution_count": 32,
   "metadata": {},
   "outputs": [
    {
     "name": "stdout",
     "output_type": "stream",
     "text": [
      "[2]\n",
      "[2, -1]\n",
      "[2, -1, 2]\n",
      "[2, -1, 2, 3]\n",
      "[2, -1, 2, 3, 4]\n",
      "[2, -1, 2, 3, 4, -5]\n",
      "[-1]\n",
      "[-1, 2]\n",
      "[-1, 2, 3]\n",
      "[-1, 2, 3, 4]\n",
      "[-1, 2, 3, 4, -5]\n",
      "[2]\n",
      "[2, 3]\n",
      "[2, 3, 4]\n",
      "[2, 3, 4, -5]\n",
      "[3]\n",
      "[3, 4]\n",
      "[3, 4, -5]\n",
      "[4]\n",
      "[4, -5]\n",
      "[-5]\n",
      "Maximum subarray :  [2, -1, 2, 3, 4]\n",
      "Maximum subarray sum is:  10\n"
     ]
    }
   ],
   "source": [
    "# Naive approach,Using two for loops.. Complexiny O(n2)\n",
    "list1 = [2, -1, 2, 3, 4, -5]\n",
    "output_list = []\n",
    "sum1 = list1[0]\n",
    "\n",
    "for i in range(0, len(list1)):\n",
    "    for j in range(i, len(list1)):\n",
    "        sub_list = list1[i:j+1]\n",
    "        print(sub_list)\n",
    "        if sum(sub_list) > sum1:\n",
    "            sum1 = sum(sub_list)\n",
    "            output_list = sub_list\n",
    "\n",
    "print(\"Maximum subarray : \", output_list)\n",
    "print(\"Maximum subarray sum is: \", sum1)\n"
   ]
  },
  {
   "cell_type": "markdown",
   "metadata": {},
   "source": [
    "### 4. Missing number in array \n",
    "problem statement: https://practice.geeksforgeeks.org/problems/missing-number-in-array/0\n",
    "\n",
    "Given an array C of size N-1 and given that there are numbers from 1 to N with one element missing, the missing number is to be found.\n",
    "\n",
    "**Method 1** : with sum of n natural numbers"
   ]
  },
  {
   "cell_type": "code",
   "execution_count": 7,
   "metadata": {},
   "outputs": [
    {
     "name": "stdout",
     "output_type": "stream",
     "text": [
      "4\n"
     ]
    }
   ],
   "source": [
    "#this approach have interger overflow chance\n",
    "sum = 0\n",
    "arr = [1,2,3,5]\n",
    "n = len(arr)+1\n",
    "for i in arr:\n",
    "    sum = sum+i\n",
    "print(int((n*(n+1)/2))-sum)"
   ]
  },
  {
   "cell_type": "code",
   "execution_count": null,
   "metadata": {},
   "outputs": [],
   "source": [
    "# below approach will eliminate inter overflow if we give large input number in our array. \n",
    "# a represents the array \n",
    "# n : Number of elements in array a \n",
    "def getMissingNo(a, n):  \n",
    "    i, total = 0, 1\n",
    "  \n",
    "    for i in range(2, n + 2): \n",
    "        total += i \n",
    "        total -= a[i - 2] \n",
    "    return total \n",
    "  \n",
    "# Driver Code \n",
    "arr = [1, 2, 3, 5] \n",
    "print(getMissingNo(arr, len(arr))) "
   ]
  },
  {
   "cell_type": "markdown",
   "metadata": {},
   "source": [
    "**Method2** : comparing with another array.\n",
    "**Method3** : using Xor"
   ]
  },
  {
   "cell_type": "code",
   "execution_count": 11,
   "metadata": {},
   "outputs": [
    {
     "data": {
      "text/plain": [
       "7"
      ]
     },
     "execution_count": 11,
     "metadata": {},
     "output_type": "execute_result"
    }
   ],
   "source": [
    "#Method 3\n",
    "\n",
    "#1) XOR all the array elements, let the result of XOR be X1.\n",
    "#2) XOR all numbers from 1 to n, let XOR be X2.\n",
    "#3) XOR of X1 and X2 gives the missing number.\n",
    "\n",
    "def get_missing_no(arr, n): \n",
    "    x1 = arr[0] \n",
    "    x2 = 1\n",
    "      \n",
    "    for x in arr: \n",
    "        x1 = x1 ^ x\n",
    "          \n",
    "    for i in range(2,n): \n",
    "        x2 = x2 ^ i \n",
    "      \n",
    "    return x1 ^ x2 \n",
    "\n",
    "get_missing_no([1,2,4,5],5)"
   ]
  },
  {
   "cell_type": "code",
   "execution_count": 5,
   "metadata": {},
   "outputs": [
    {
     "name": "stdout",
     "output_type": "stream",
     "text": [
      "3 ^ 2 7 ^ 4 2 ^ 5 4 ^ 6 7\n",
      "3\n"
     ]
    }
   ],
   "source": [
    "def getMissingNo(a, n): \n",
    "    x1 = a[0] \n",
    "    x2 = 1\n",
    "      \n",
    "    for i in range(1, n): \n",
    "        x1 = x1 ^ a[i] \n",
    "        print(x1,\"^\",a[i], end= \" \")\n",
    "        \n",
    "    for i in range(2, n + 2): \n",
    "        x2 = x2 ^ i   \n",
    "    print(x2)\n",
    "        \n",
    "    return x1 ^ x2 \n",
    "  \n",
    "# Driver program to test above function \n",
    "if __name__=='__main__': \n",
    "  \n",
    "    a = [1, 2, 4, 5, 6] \n",
    "    n = len(a) \n",
    "    miss = getMissingNo(a, n)  \n",
    "    print(miss)"
   ]
  },
  {
   "cell_type": "markdown",
   "metadata": {},
   "source": [
    "### 5.   Rotate Array\n",
    "\n",
    "    Given an array, rotate the array to the right by k steps, where k is non-negative\n",
    "**Example 1:**\n",
    "\n",
    "    Input: nums = [1,2,3,4,5,6,7], k = 3\n",
    "    Output: [5,6,7,1,2,3,4]\n",
    "    Explanation:\n",
    "    rotate 1 steps to the right: [7,1,2,3,4,5,6]\n",
    "    rotate 2 steps to the right: [6,7,1,2,3,4,5]\n",
    "    rotate 3 steps to the right: [5,6,7,1,2,3,4]\n"
   ]
  },
  {
   "cell_type": "code",
   "execution_count": 22,
   "metadata": {},
   "outputs": [
    {
     "name": "stdout",
     "output_type": "stream",
     "text": [
      "5\n"
     ]
    },
    {
     "data": {
      "text/plain": [
       "[4, 5, 1, 2, 3]"
      ]
     },
     "execution_count": 22,
     "metadata": {},
     "output_type": "execute_result"
    }
   ],
   "source": [
    "import copy\n",
    "\n",
    "nums = [1,2,3,4,5]\n",
    "nums2 = copy.copy(nums)\n",
    "k = 2\n",
    "n = len(nums)\n",
    "print(n)\n",
    "for i in range(n):\n",
    "    if(i<k):\n",
    "        nums2[i] = nums[(n+i)-k]\n",
    "    else:\n",
    "        nums2[i] = nums[i-k]\n",
    "nums2"
   ]
  },
  {
   "cell_type": "code",
   "execution_count": null,
   "metadata": {},
   "outputs": [],
   "source": []
  },
  {
   "cell_type": "code",
   "execution_count": null,
   "metadata": {},
   "outputs": [],
   "source": []
  },
  {
   "cell_type": "code",
   "execution_count": null,
   "metadata": {},
   "outputs": [],
   "source": []
  },
  {
   "cell_type": "code",
   "execution_count": null,
   "metadata": {},
   "outputs": [],
   "source": []
  },
  {
   "cell_type": "code",
   "execution_count": null,
   "metadata": {},
   "outputs": [],
   "source": []
  },
  {
   "cell_type": "code",
   "execution_count": null,
   "metadata": {},
   "outputs": [],
   "source": []
  },
  {
   "cell_type": "code",
   "execution_count": null,
   "metadata": {},
   "outputs": [],
   "source": []
  },
  {
   "cell_type": "code",
   "execution_count": null,
   "metadata": {},
   "outputs": [],
   "source": []
  },
  {
   "cell_type": "code",
   "execution_count": null,
   "metadata": {},
   "outputs": [],
   "source": []
  },
  {
   "cell_type": "code",
   "execution_count": null,
   "metadata": {},
   "outputs": [],
   "source": []
  },
  {
   "cell_type": "code",
   "execution_count": null,
   "metadata": {},
   "outputs": [],
   "source": []
  },
  {
   "cell_type": "code",
   "execution_count": null,
   "metadata": {},
   "outputs": [],
   "source": []
  },
  {
   "cell_type": "code",
   "execution_count": null,
   "metadata": {},
   "outputs": [],
   "source": []
  },
  {
   "cell_type": "code",
   "execution_count": null,
   "metadata": {},
   "outputs": [],
   "source": []
  },
  {
   "cell_type": "code",
   "execution_count": null,
   "metadata": {},
   "outputs": [],
   "source": []
  },
  {
   "cell_type": "code",
   "execution_count": null,
   "metadata": {},
   "outputs": [],
   "source": []
  },
  {
   "cell_type": "code",
   "execution_count": null,
   "metadata": {},
   "outputs": [],
   "source": []
  },
  {
   "cell_type": "code",
   "execution_count": null,
   "metadata": {},
   "outputs": [],
   "source": []
  },
  {
   "cell_type": "code",
   "execution_count": null,
   "metadata": {},
   "outputs": [],
   "source": []
  },
  {
   "cell_type": "code",
   "execution_count": null,
   "metadata": {},
   "outputs": [],
   "source": []
  },
  {
   "cell_type": "code",
   "execution_count": null,
   "metadata": {},
   "outputs": [],
   "source": []
  },
  {
   "cell_type": "code",
   "execution_count": null,
   "metadata": {},
   "outputs": [],
   "source": []
  },
  {
   "cell_type": "code",
   "execution_count": null,
   "metadata": {},
   "outputs": [],
   "source": []
  },
  {
   "cell_type": "code",
   "execution_count": null,
   "metadata": {},
   "outputs": [],
   "source": []
  },
  {
   "cell_type": "code",
   "execution_count": null,
   "metadata": {},
   "outputs": [],
   "source": []
  },
  {
   "cell_type": "code",
   "execution_count": null,
   "metadata": {},
   "outputs": [],
   "source": []
  },
  {
   "cell_type": "code",
   "execution_count": null,
   "metadata": {},
   "outputs": [],
   "source": []
  },
  {
   "cell_type": "code",
   "execution_count": null,
   "metadata": {},
   "outputs": [],
   "source": []
  },
  {
   "cell_type": "code",
   "execution_count": null,
   "metadata": {},
   "outputs": [],
   "source": []
  },
  {
   "cell_type": "code",
   "execution_count": null,
   "metadata": {},
   "outputs": [],
   "source": []
  },
  {
   "cell_type": "code",
   "execution_count": null,
   "metadata": {},
   "outputs": [],
   "source": []
  },
  {
   "cell_type": "code",
   "execution_count": null,
   "metadata": {},
   "outputs": [],
   "source": []
  },
  {
   "cell_type": "code",
   "execution_count": null,
   "metadata": {},
   "outputs": [],
   "source": []
  },
  {
   "cell_type": "code",
   "execution_count": null,
   "metadata": {},
   "outputs": [],
   "source": []
  },
  {
   "cell_type": "code",
   "execution_count": null,
   "metadata": {},
   "outputs": [],
   "source": []
  },
  {
   "cell_type": "code",
   "execution_count": null,
   "metadata": {},
   "outputs": [],
   "source": []
  },
  {
   "cell_type": "code",
   "execution_count": null,
   "metadata": {},
   "outputs": [],
   "source": []
  },
  {
   "cell_type": "code",
   "execution_count": null,
   "metadata": {},
   "outputs": [],
   "source": []
  },
  {
   "cell_type": "code",
   "execution_count": null,
   "metadata": {},
   "outputs": [],
   "source": []
  },
  {
   "cell_type": "code",
   "execution_count": null,
   "metadata": {},
   "outputs": [],
   "source": []
  },
  {
   "cell_type": "code",
   "execution_count": null,
   "metadata": {},
   "outputs": [],
   "source": []
  },
  {
   "cell_type": "code",
   "execution_count": null,
   "metadata": {},
   "outputs": [],
   "source": []
  },
  {
   "cell_type": "code",
   "execution_count": null,
   "metadata": {},
   "outputs": [],
   "source": []
  },
  {
   "cell_type": "code",
   "execution_count": null,
   "metadata": {},
   "outputs": [],
   "source": []
  },
  {
   "cell_type": "code",
   "execution_count": null,
   "metadata": {},
   "outputs": [],
   "source": []
  },
  {
   "cell_type": "code",
   "execution_count": null,
   "metadata": {},
   "outputs": [],
   "source": []
  },
  {
   "cell_type": "code",
   "execution_count": null,
   "metadata": {},
   "outputs": [],
   "source": []
  },
  {
   "cell_type": "code",
   "execution_count": null,
   "metadata": {},
   "outputs": [],
   "source": []
  },
  {
   "cell_type": "code",
   "execution_count": null,
   "metadata": {},
   "outputs": [],
   "source": []
  },
  {
   "cell_type": "code",
   "execution_count": null,
   "metadata": {},
   "outputs": [],
   "source": []
  },
  {
   "cell_type": "code",
   "execution_count": null,
   "metadata": {},
   "outputs": [],
   "source": []
  },
  {
   "cell_type": "code",
   "execution_count": null,
   "metadata": {},
   "outputs": [],
   "source": []
  },
  {
   "cell_type": "code",
   "execution_count": null,
   "metadata": {},
   "outputs": [],
   "source": []
  },
  {
   "cell_type": "code",
   "execution_count": null,
   "metadata": {},
   "outputs": [],
   "source": []
  },
  {
   "cell_type": "code",
   "execution_count": null,
   "metadata": {},
   "outputs": [],
   "source": []
  },
  {
   "cell_type": "code",
   "execution_count": null,
   "metadata": {},
   "outputs": [],
   "source": []
  },
  {
   "cell_type": "markdown",
   "metadata": {},
   "source": [
    "### 11. Leaders in an array\n",
    "\n",
    "\n",
    "problem statement: \n",
    "https://www.geeksforgeeks.org/leaders-in-an-array/\n",
    "\n",
    "Write a program to print all the LEADERS in the array. An element is leader if it is greater than all the elements to its right side. And the rightmost element is always a leader. For example int the array {16, 17, 4, 3, 5, 2}, leaders are 17, 5 and 2.\n",
    "\n",
    "Let the input array be arr[] and size of the array be size."
   ]
  },
  {
   "cell_type": "code",
   "execution_count": 1,
   "metadata": {},
   "outputs": [
    {
     "name": "stdout",
     "output_type": "stream",
     "text": [
      "17 5 2 "
     ]
    }
   ],
   "source": [
    "#using two for loops. Time complexity O(n*n)\n",
    "def print_leaders(list1, length):\n",
    "    for i in range(length):\n",
    "        leader  = True\n",
    "        for j in range(i+1,length):\n",
    "            if(list1[i]<list1[j]):\n",
    "                leader &= False\n",
    "        if(leader):\n",
    "            print(list1[i], end = \" \")\n",
    "                \n",
    "arr=[16, 17, 4, 3, 5, 2] \n",
    "print_leaders(arr, len(arr)) "
   ]
  },
  {
   "cell_type": "code",
   "execution_count": 2,
   "metadata": {},
   "outputs": [
    {
     "name": "stdout",
     "output_type": "stream",
     "text": [
      "2 5 17 "
     ]
    }
   ],
   "source": [
    "#Using single for loop and scanning from right hand.\n",
    "# Time complexity O(n)\n",
    "def print_leaders(list1, length):\n",
    "    maximum  = list1[-1]\n",
    "    for i in range(length-1,0,-1):\n",
    "        if(list1[i] >= maximum):\n",
    "            print(list1[i], end = \" \")\n",
    "            maximum = list1[i]\n",
    "                \n",
    "arr=[16, 17, 4, 3, 5, 2] \n",
    "print_leaders(arr, len(arr)) "
   ]
  },
  {
   "cell_type": "code",
   "execution_count": null,
   "metadata": {},
   "outputs": [],
   "source": []
  },
  {
   "cell_type": "code",
   "execution_count": null,
   "metadata": {},
   "outputs": [],
   "source": []
  },
  {
   "cell_type": "code",
   "execution_count": null,
   "metadata": {},
   "outputs": [],
   "source": []
  },
  {
   "cell_type": "code",
   "execution_count": null,
   "metadata": {},
   "outputs": [],
   "source": []
  },
  {
   "cell_type": "code",
   "execution_count": null,
   "metadata": {},
   "outputs": [],
   "source": []
  },
  {
   "cell_type": "code",
   "execution_count": null,
   "metadata": {},
   "outputs": [],
   "source": []
  },
  {
   "cell_type": "code",
   "execution_count": null,
   "metadata": {},
   "outputs": [],
   "source": []
  },
  {
   "cell_type": "code",
   "execution_count": null,
   "metadata": {},
   "outputs": [],
   "source": []
  },
  {
   "cell_type": "code",
   "execution_count": null,
   "metadata": {},
   "outputs": [],
   "source": []
  },
  {
   "cell_type": "code",
   "execution_count": null,
   "metadata": {},
   "outputs": [],
   "source": []
  },
  {
   "cell_type": "code",
   "execution_count": null,
   "metadata": {},
   "outputs": [],
   "source": []
  },
  {
   "cell_type": "code",
   "execution_count": null,
   "metadata": {},
   "outputs": [],
   "source": []
  },
  {
   "cell_type": "code",
   "execution_count": null,
   "metadata": {},
   "outputs": [],
   "source": []
  },
  {
   "cell_type": "code",
   "execution_count": null,
   "metadata": {},
   "outputs": [],
   "source": []
  },
  {
   "cell_type": "code",
   "execution_count": null,
   "metadata": {},
   "outputs": [],
   "source": []
  },
  {
   "cell_type": "code",
   "execution_count": null,
   "metadata": {},
   "outputs": [],
   "source": []
  },
  {
   "cell_type": "code",
   "execution_count": null,
   "metadata": {},
   "outputs": [],
   "source": []
  },
  {
   "cell_type": "code",
   "execution_count": null,
   "metadata": {},
   "outputs": [],
   "source": []
  },
  {
   "cell_type": "code",
   "execution_count": null,
   "metadata": {},
   "outputs": [],
   "source": []
  }
 ],
 "metadata": {
  "kernelspec": {
   "display_name": "Python 3",
   "language": "python",
   "name": "python3"
  },
  "language_info": {
   "codemirror_mode": {
    "name": "ipython",
    "version": 3
   },
   "file_extension": ".py",
   "mimetype": "text/x-python",
   "name": "python",
   "nbconvert_exporter": "python",
   "pygments_lexer": "ipython3",
   "version": "3.8.0"
  },
  "varInspector": {
   "cols": {
    "lenName": 16,
    "lenType": 16,
    "lenVar": 40
   },
   "kernels_config": {
    "python": {
     "delete_cmd_postfix": "",
     "delete_cmd_prefix": "del ",
     "library": "var_list.py",
     "varRefreshCmd": "print(var_dic_list())"
    },
    "r": {
     "delete_cmd_postfix": ") ",
     "delete_cmd_prefix": "rm(",
     "library": "var_list.r",
     "varRefreshCmd": "cat(var_dic_list()) "
    }
   },
   "types_to_exclude": [
    "module",
    "function",
    "builtin_function_or_method",
    "instance",
    "_Feature"
   ],
   "window_display": false
  }
 },
 "nbformat": 4,
 "nbformat_minor": 2
}
