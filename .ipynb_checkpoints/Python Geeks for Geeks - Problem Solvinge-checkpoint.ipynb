{
 "cells": [
  {
   "cell_type": "markdown",
   "metadata": {},
   "source": [
    "## Python Hacker Rank- Problem Solving"
   ]
  },
  {
   "cell_type": "markdown",
   "metadata": {},
   "source": [
    "### 1. Leaders in an array\n",
    "\n",
    "\n",
    "problem statement: \n",
    "https://www.geeksforgeeks.org/leaders-in-an-array/\n",
    "\n",
    "Write a program to print all the LEADERS in the array. An element is leader if it is greater than all the elements to its right side. And the rightmost element is always a leader. For example int the array {16, 17, 4, 3, 5, 2}, leaders are 17, 5 and 2.\n",
    "\n",
    "Let the input array be arr[] and size of the array be size."
   ]
  },
  {
   "cell_type": "code",
   "execution_count": 10,
   "metadata": {},
   "outputs": [
    {
     "name": "stdout",
     "output_type": "stream",
     "text": [
      "17 5 2 "
     ]
    }
   ],
   "source": [
    "#using two for loops. Time complexity O(n*n)\n",
    "def print_leaders(list1, length):\n",
    "    for i in range(length):\n",
    "        leader  = True\n",
    "        for j in range(i+1,length):\n",
    "            if(list1[i]<list1[j]):\n",
    "                leader &= False\n",
    "        if(leader):\n",
    "            print(list1[i], end = \" \")\n",
    "                \n",
    "arr=[16, 17, 4, 3, 5, 2] \n",
    "print_leaders(arr, len(arr)) "
   ]
  },
  {
   "cell_type": "code",
   "execution_count": 16,
   "metadata": {},
   "outputs": [
    {
     "name": "stdout",
     "output_type": "stream",
     "text": [
      "2 5 17 "
     ]
    }
   ],
   "source": [
    "#Using single for loop and scanning from right hand.\n",
    "# Time complexity O(n)\n",
    "def print_leaders(list1, length):\n",
    "    maximum  = list1[-1]\n",
    "    for i in range(length-1,0,-1):\n",
    "        if(list1[i] >= maximum):\n",
    "            print(list1[i], end = \" \")\n",
    "            maximum = list1[i]\n",
    "                \n",
    "arr=[16, 17, 4, 3, 5, 2] \n",
    "print_leaders(arr, len(arr)) "
   ]
  },
  {
   "cell_type": "markdown",
   "metadata": {},
   "source": [
    "### 2. Find subarray with given sum (Nonnegative Numbers)\n",
    "\n",
    "Problem Statement: https://www.geeksforgeeks.org/find-subarray-with-given-sum/\n",
    "\n",
    "Given an unsorted array of nonnegative integers, find a continuous subarray which adds to a given number. \n"
   ]
  },
  {
   "cell_type": "code",
   "execution_count": 13,
   "metadata": {
    "pixiedust": {
     "displayParams": {}
    }
   },
   "outputs": [
    {
     "name": "stdout",
     "output_type": "stream",
     "text": [
      "3 3\n",
      "4 6\n"
     ]
    }
   ],
   "source": [
    "list1 = [1,2,4,12,6,2,4]\n",
    "required_sum = 12 \n",
    "total_sum = 0\n",
    "for i in range(0, len(list1)):\n",
    "    for j in range(i, len(list1)):\n",
    "        total_sum += list1[j]\n",
    "        if(total_sum == required_sum):\n",
    "            print(i,j)\n",
    "            break\n",
    "    \n",
    "    total_sum = 0\n",
    "    \n",
    "#using two for loops. Time complexity O(n*n)\n"
   ]
  },
  {
   "cell_type": "code",
   "execution_count": null,
   "metadata": {},
   "outputs": [],
   "source": [
    "# evethogh we used two for loops. Time complexity would be O(n)\n",
    "# second for loop runs only few times\n",
    "# it will not work for negative numbers.\n",
    "\n",
    "list1 = [1,2,4,12,6,2,4]\n",
    "required_sum = 12 \n",
    "total_sum = 0\n",
    "\n",
    "for i in range(0, len(list1)):\n"
   ]
  },
  {
   "cell_type": "code",
   "execution_count": null,
   "metadata": {},
   "outputs": [],
   "source": []
  }
 ],
 "metadata": {
  "kernelspec": {
   "display_name": "Python 3",
   "language": "python",
   "name": "python3"
  },
  "language_info": {
   "codemirror_mode": {
    "name": "ipython",
    "version": 3
   },
   "file_extension": ".py",
   "mimetype": "text/x-python",
   "name": "python",
   "nbconvert_exporter": "python",
   "pygments_lexer": "ipython3",
   "version": "3.8.0"
  },
  "varInspector": {
   "cols": {
    "lenName": 16,
    "lenType": 16,
    "lenVar": 40
   },
   "kernels_config": {
    "python": {
     "delete_cmd_postfix": "",
     "delete_cmd_prefix": "del ",
     "library": "var_list.py",
     "varRefreshCmd": "print(var_dic_list())"
    },
    "r": {
     "delete_cmd_postfix": ") ",
     "delete_cmd_prefix": "rm(",
     "library": "var_list.r",
     "varRefreshCmd": "cat(var_dic_list()) "
    }
   },
   "types_to_exclude": [
    "module",
    "function",
    "builtin_function_or_method",
    "instance",
    "_Feature"
   ],
   "window_display": false
  }
 },
 "nbformat": 4,
 "nbformat_minor": 2
}
