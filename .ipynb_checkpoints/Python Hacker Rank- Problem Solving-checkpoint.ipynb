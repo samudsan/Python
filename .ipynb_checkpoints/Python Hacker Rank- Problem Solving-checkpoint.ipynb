{
 "cells": [
  {
   "cell_type": "markdown",
   "metadata": {},
   "source": [
    "## Python Hacker Rank- Problem Solving"
   ]
  },
  {
   "cell_type": "markdown",
   "metadata": {},
   "source": [
    "### 1.StairCase\n",
    "\n",
    "problem statement: \n",
    "https://www.hackerrank.com/challenges/staircase/problem"
   ]
  },
  {
   "cell_type": "code",
   "execution_count": 1,
   "metadata": {},
   "outputs": [
    {
     "name": "stdout",
     "output_type": "stream",
     "text": [
      "    #\n",
      "   ##\n",
      "  ###\n",
      " ####\n",
      "#####\n"
     ]
    }
   ],
   "source": [
    "n = 5\n",
    "for i in range(n, 0, -1):\n",
    "    for j in range(i-1,0,-1):\n",
    "        print(\" \", end=\"\")\n",
    "    for k in range(n+1-i):\n",
    "        print(\"#\", end=\"\")\n",
    "    print()"
   ]
  },
  {
   "cell_type": "code",
   "execution_count": 2,
   "metadata": {},
   "outputs": [
    {
     "name": "stdout",
     "output_type": "stream",
     "text": [
      "    #\n",
      "   ##\n",
      "  ###\n",
      " ####\n",
      "#####\n"
     ]
    }
   ],
   "source": [
    "n = 5\n",
    "for i in range(1, n + 1):\n",
    "        print(str('#'*i).rjust(n))\n",
    "#rjust checks the length of the output string and adds characters to match that length "
   ]
  },
  {
   "cell_type": "code",
   "execution_count": 4,
   "metadata": {},
   "outputs": [
    {
     "name": "stdout",
     "output_type": "stream",
     "text": [
      "    #\n",
      "   ##\n",
      "  ###\n",
      " ####\n",
      "#####\n"
     ]
    }
   ],
   "source": [
    "n = 5\n",
    "print('\\n'.join([' '*(n-x)+'#'*x for x in range(1,n+1)]))"
   ]
  },
  {
   "cell_type": "markdown",
   "metadata": {},
   "source": [
    "### 2. Birthday Cake Candles\n",
    "\n",
    "Problem statement: https://www.hackerrank.com/challenges/birthday-cake-candles/problem"
   ]
  },
  {
   "cell_type": "code",
   "execution_count": 10,
   "metadata": {},
   "outputs": [
    {
     "name": "stdout",
     "output_type": "stream",
     "text": [
      "2\n"
     ]
    }
   ],
   "source": [
    "#finding number of maximum elements in an array\n",
    "\n",
    "def birthdayCakeCandles(ar):\n",
    "    ar.sort(reverse = True) # sort() function is inplace unlike sorted()\n",
    "    first_element = ar[0]\n",
    "    counter = 0\n",
    "    for i in ar:\n",
    "        if first_element == i:\n",
    "           counter += 1\n",
    "    return counter\n",
    "\n",
    "\n",
    "print(birthdayCakeCandles([3,2,1,3]))\n",
    "\n",
    "# Time Complexity : O(n2)"
   ]
  },
  {
   "cell_type": "code",
   "execution_count": 11,
   "metadata": {},
   "outputs": [
    {
     "name": "stdout",
     "output_type": "stream",
     "text": [
      "2\n"
     ]
    }
   ],
   "source": [
    "def birthdayCakeCandles(ar):\n",
    "    return ar.count(max(ar))\n",
    "\n",
    "print(birthdayCakeCandles([3,2,1,3]))\n",
    "\n",
    "# Time Complexity : O(n2)\n",
    "#this is faster than below code as python inbuilt functions works very fast,"
   ]
  },
  {
   "cell_type": "code",
   "execution_count": 13,
   "metadata": {},
   "outputs": [
    {
     "name": "stdout",
     "output_type": "stream",
     "text": [
      "2\n"
     ]
    }
   ],
   "source": [
    "def birthdayCakeCandles(ar):\n",
    "    max_h = ar[0]\n",
    "    max_count = 1\n",
    "    for c in ar[1:]:\n",
    "        if c > max_h:\n",
    "            max_h = c\n",
    "            max_count = 1\n",
    "        elif c == max_h:\n",
    "            max_count += 1\n",
    "    return max_count\n",
    "\n",
    "print(birthdayCakeCandles([3,2,1,3]))\n",
    "\n",
    "# Time Complexity : O(n)"
   ]
  },
  {
   "cell_type": "markdown",
   "metadata": {},
   "source": [
    "### 3. Sorting user using user defined order.\n",
    "\n",
    "\n",
    "3. list_name.sort(key=…, reverse=…) – it sorts according to user’s choice\n",
    "\n"
   ]
  },
  {
   "cell_type": "code",
   "execution_count": 3,
   "metadata": {},
   "outputs": [
    {
     "name": "stdout",
     "output_type": "stream",
     "text": [
      "[(1, 1), (1, 2), (3, 3)]\n",
      "[(3, 3), (1, 2), (1, 1)]\n"
     ]
    }
   ],
   "source": [
    "# function to return the second element of the \n",
    "# two elements passed as the parameter \n",
    "def sortSecond(val): \n",
    "    return val[1]  \n",
    "\n",
    "list1 = [(1, 2), (3, 3), (1, 1)] \n",
    "\n",
    "list1.sort(key = sortSecond)  \n",
    "print(list1) \n",
    "\n",
    "list1.sort(key = sortSecond, reverse = True) \n",
    "print(list1) "
   ]
  },
  {
   "cell_type": "code",
   "execution_count": null,
   "metadata": {},
   "outputs": [],
   "source": []
  },
  {
   "cell_type": "code",
   "execution_count": null,
   "metadata": {},
   "outputs": [],
   "source": []
  },
  {
   "cell_type": "code",
   "execution_count": null,
   "metadata": {},
   "outputs": [],
   "source": []
  },
  {
   "cell_type": "markdown",
   "metadata": {},
   "source": [
    "2. "
   ]
  }
 ],
 "metadata": {
  "kernelspec": {
   "display_name": "Python 3",
   "language": "python",
   "name": "python3"
  },
  "language_info": {
   "codemirror_mode": {
    "name": "ipython",
    "version": 3
   },
   "file_extension": ".py",
   "mimetype": "text/x-python",
   "name": "python",
   "nbconvert_exporter": "python",
   "pygments_lexer": "ipython3",
   "version": "3.8.0"
  },
  "varInspector": {
   "cols": {
    "lenName": 16,
    "lenType": 16,
    "lenVar": 40
   },
   "kernels_config": {
    "python": {
     "delete_cmd_postfix": "",
     "delete_cmd_prefix": "del ",
     "library": "var_list.py",
     "varRefreshCmd": "print(var_dic_list())"
    },
    "r": {
     "delete_cmd_postfix": ") ",
     "delete_cmd_prefix": "rm(",
     "library": "var_list.r",
     "varRefreshCmd": "cat(var_dic_list()) "
    }
   },
   "types_to_exclude": [
    "module",
    "function",
    "builtin_function_or_method",
    "instance",
    "_Feature"
   ],
   "window_display": false
  }
 },
 "nbformat": 4,
 "nbformat_minor": 2
}
