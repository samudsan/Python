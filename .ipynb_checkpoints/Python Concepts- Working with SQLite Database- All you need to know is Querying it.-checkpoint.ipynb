{
 "cells": [
  {
   "cell_type": "markdown",
   "metadata": {},
   "source": [
    "#### Connecting to a Database "
   ]
  },
  {
   "cell_type": "code",
   "execution_count": 41,
   "metadata": {},
   "outputs": [
    {
     "name": "stdout",
     "output_type": "stream",
     "text": [
      "SQLite Database connection established.\n"
     ]
    }
   ],
   "source": [
    "import sqlite3\n",
    "connection = sqlite3.connect(\"test_database.sqlite\") #it will connect to that DB. if it does not exist, it creates\n",
    "cursor = connection.cursor() #it allow us to execute queries.\n",
    "print(\"SQLite Database connection established.\")"
   ]
  },
  {
   "cell_type": "markdown",
   "metadata": {},
   "source": [
    "After performed an operation on the database other than sending queries, we need to commit those changes via the .commit() method before we close the connection:"
   ]
  },
  {
   "cell_type": "code",
   "execution_count": 5,
   "metadata": {},
   "outputs": [
    {
     "name": "stdout",
     "output_type": "stream",
     "text": [
      "SQLite Database connection closed now.\n"
     ]
    }
   ],
   "source": [
    "# connection.commit()\n",
    "# connection.close()\n",
    "# print(\"SQLite Database connection closed now.\")"
   ]
  },
  {
   "cell_type": "markdown",
   "metadata": {},
   "source": [
    "### 2. Creating,inserting,updating a Table\n"
   ]
  },
  {
   "cell_type": "code",
   "execution_count": 56,
   "metadata": {},
   "outputs": [
    {
     "name": "stdout",
     "output_type": "stream",
     "text": [
      "ID = 1, NAME = Rohan, MARKS = 200\n",
      "ID = 2, NAME = Allen, MARKS = 150\n",
      "ID = 3, NAME = Martha, MARKS = 200\n",
      "ID = 4, NAME = Palak, MARKS = 650\n",
      "ID = 5, NAME = Palak, MARKS = 50\n",
      "************************* below details got updated *************************\n",
      "ID = 1, NAME = Rohan, MARKS = 14\n",
      "ID = 2, NAME = Allen, MARKS = 14\n",
      "ID = 3, NAME = Martha, MARKS = 15\n",
      "ID = 4, NAME = Palak, MARKS = 15\n",
      "ID = 5, NAME = Palak, MARKS = 15\n"
     ]
    }
   ],
   "source": [
    "cursor.execute(\"DROP TABLE school;\")\n",
    "\n",
    "cursor.execute('''CREATE TABLE IF NOT EXISTS school \n",
    "                  (Id INT PRIMARY KEY,\n",
    "                  Name TEXT NOT NULL,\n",
    "                  Age INT NOT NULL,\n",
    "                  Address CHAR(50),\n",
    "                  MARKS INT,\n",
    "                  TESTColumn CHAR(10));''')\n",
    "cursor.execute(\"DELETE FROM school\") # for deleting the table data completely\n",
    "\n",
    "cursor.execute(\"INSERT INTO SCHOOL (ID,NAME,AGE,ADDRESS,MARKS) VALUES (1, 'Rohan', 14, 'Delhi', 200)\");\n",
    "cursor.execute(\"INSERT INTO SCHOOL (ID,NAME,AGE,ADDRESS,MARKS) VALUES (2, 'Allen', 14, 'Bangalore', 150 )\");\n",
    "cursor.execute(\"INSERT INTO SCHOOL (ID,NAME,AGE,ADDRESS,MARKS) VALUES (3, 'Martha', 15, 'Hyderabad', 200 )\");\n",
    "cursor.execute(\"INSERT INTO SCHOOL (ID,NAME,AGE,ADDRESS,MARKS) VALUES (4, 'Palak', 15, 'Kolkata', 650)\");\n",
    "cursor.execute(\"INSERT INTO SCHOOL (ID,NAME,AGE,MARKS) VALUES (5, 'Palak', 15, 50 )\");\n",
    "\n",
    "# cursor.execute(\"TRUNCATE FROM school\") # for deleting the table data completely\n",
    "\n",
    "for row in cursor.execute(\"SELECT id, name, marks from SCHOOL\"):\n",
    "    print(\"ID = {}, NAME = {}, MARKS = {}\".format(row[0], row[1], row[2]))\n",
    "\n",
    "connection.execute(\"UPDATE SCHOOL set MARKS = 250 where ID = 3\")\n",
    "\n",
    "print(\"*\"*25,\"below details got updated\",\"*\"*25)\n",
    "\n",
    "for row in cursor.execute(\"SELECT * from SCHOOL\"):\n",
    "    print(\"ID = {}, NAME = {}, MARKS = {}\".format(row[0], row[1], row[2]))\n",
    "    \n",
    "#close the connection before you leave.\n",
    "# connection.commit()\n",
    "# connection.close()"
   ]
  },
  {
   "cell_type": "code",
   "execution_count": 57,
   "metadata": {},
   "outputs": [
    {
     "data": {
      "text/html": [
       "<div>\n",
       "<style scoped>\n",
       "    .dataframe tbody tr th:only-of-type {\n",
       "        vertical-align: middle;\n",
       "    }\n",
       "\n",
       "    .dataframe tbody tr th {\n",
       "        vertical-align: top;\n",
       "    }\n",
       "\n",
       "    .dataframe thead th {\n",
       "        text-align: right;\n",
       "    }\n",
       "</style>\n",
       "<table border=\"1\" class=\"dataframe\">\n",
       "  <thead>\n",
       "    <tr style=\"text-align: right;\">\n",
       "      <th></th>\n",
       "      <th>Id</th>\n",
       "      <th>Name</th>\n",
       "      <th>Age</th>\n",
       "      <th>Address</th>\n",
       "      <th>MARKS</th>\n",
       "      <th>TESTColumn</th>\n",
       "    </tr>\n",
       "  </thead>\n",
       "  <tbody>\n",
       "    <tr>\n",
       "      <th>0</th>\n",
       "      <td>1</td>\n",
       "      <td>Rohan</td>\n",
       "      <td>14</td>\n",
       "      <td>Delhi</td>\n",
       "      <td>200</td>\n",
       "      <td>None</td>\n",
       "    </tr>\n",
       "    <tr>\n",
       "      <th>1</th>\n",
       "      <td>2</td>\n",
       "      <td>Allen</td>\n",
       "      <td>14</td>\n",
       "      <td>Bangalore</td>\n",
       "      <td>150</td>\n",
       "      <td>None</td>\n",
       "    </tr>\n",
       "    <tr>\n",
       "      <th>2</th>\n",
       "      <td>3</td>\n",
       "      <td>Martha</td>\n",
       "      <td>15</td>\n",
       "      <td>Hyderabad</td>\n",
       "      <td>250</td>\n",
       "      <td>None</td>\n",
       "    </tr>\n",
       "    <tr>\n",
       "      <th>3</th>\n",
       "      <td>4</td>\n",
       "      <td>Palak</td>\n",
       "      <td>15</td>\n",
       "      <td>Kolkata</td>\n",
       "      <td>650</td>\n",
       "      <td>None</td>\n",
       "    </tr>\n",
       "    <tr>\n",
       "      <th>4</th>\n",
       "      <td>5</td>\n",
       "      <td>Palak</td>\n",
       "      <td>15</td>\n",
       "      <td>None</td>\n",
       "      <td>50</td>\n",
       "      <td>None</td>\n",
       "    </tr>\n",
       "  </tbody>\n",
       "</table>\n",
       "</div>"
      ],
      "text/plain": [
       "   Id    Name  Age    Address  MARKS TESTColumn\n",
       "0   1   Rohan   14      Delhi    200       None\n",
       "1   2   Allen   14  Bangalore    150       None\n",
       "2   3  Martha   15  Hyderabad    250       None\n",
       "3   4   Palak   15    Kolkata    650       None\n",
       "4   5   Palak   15       None     50       None"
      ]
     },
     "execution_count": 57,
     "metadata": {},
     "output_type": "execute_result"
    }
   ],
   "source": [
    "#reading the table in with pandas dataframe\n",
    "import pandas as pd\n",
    "df = pd.read_sql_query(\"SELECT * FROM school\", connection) # all we need to do is just passing the connection objec\n",
    "df.head()"
   ]
  },
  {
   "cell_type": "code",
   "execution_count": 59,
   "metadata": {},
   "outputs": [
    {
     "data": {
      "text/plain": [
       "Id            0\n",
       "Name          0\n",
       "Age           0\n",
       "Address       1\n",
       "MARKS         0\n",
       "TESTColumn    5\n",
       "dtype: int64"
      ]
     },
     "execution_count": 59,
     "metadata": {},
     "output_type": "execute_result"
    }
   ],
   "source": [
    "df.isnull().sum() #it will give count of empty fields in a columns."
   ]
  },
  {
   "cell_type": "markdown",
   "metadata": {},
   "source": [
    "Ref: https://medium.com/analytics-vidhya/programming-with-databases-in-python-using-sqlite-4cecbef51ab9"
   ]
  },
  {
   "cell_type": "markdown",
   "metadata": {},
   "source": [
    "### storing pandas dataframe into sqlite db"
   ]
  },
  {
   "cell_type": "code",
   "execution_count": 62,
   "metadata": {},
   "outputs": [
    {
     "data": {
      "text/html": [
       "<div>\n",
       "<style scoped>\n",
       "    .dataframe tbody tr th:only-of-type {\n",
       "        vertical-align: middle;\n",
       "    }\n",
       "\n",
       "    .dataframe tbody tr th {\n",
       "        vertical-align: top;\n",
       "    }\n",
       "\n",
       "    .dataframe thead th {\n",
       "        text-align: right;\n",
       "    }\n",
       "</style>\n",
       "<table border=\"1\" class=\"dataframe\">\n",
       "  <thead>\n",
       "    <tr style=\"text-align: right;\">\n",
       "      <th></th>\n",
       "      <th>index</th>\n",
       "      <th>Id</th>\n",
       "      <th>Name</th>\n",
       "      <th>Age</th>\n",
       "      <th>Address</th>\n",
       "      <th>MARKS</th>\n",
       "      <th>TESTColumn</th>\n",
       "    </tr>\n",
       "  </thead>\n",
       "  <tbody>\n",
       "    <tr>\n",
       "      <th>0</th>\n",
       "      <td>0</td>\n",
       "      <td>1</td>\n",
       "      <td>Rohan</td>\n",
       "      <td>14</td>\n",
       "      <td>Delhi</td>\n",
       "      <td>200</td>\n",
       "      <td>None</td>\n",
       "    </tr>\n",
       "    <tr>\n",
       "      <th>1</th>\n",
       "      <td>1</td>\n",
       "      <td>2</td>\n",
       "      <td>Allen</td>\n",
       "      <td>14</td>\n",
       "      <td>Bangalore</td>\n",
       "      <td>150</td>\n",
       "      <td>None</td>\n",
       "    </tr>\n",
       "    <tr>\n",
       "      <th>2</th>\n",
       "      <td>2</td>\n",
       "      <td>3</td>\n",
       "      <td>Martha</td>\n",
       "      <td>15</td>\n",
       "      <td>Hyderabad</td>\n",
       "      <td>250</td>\n",
       "      <td>None</td>\n",
       "    </tr>\n",
       "    <tr>\n",
       "      <th>3</th>\n",
       "      <td>3</td>\n",
       "      <td>4</td>\n",
       "      <td>Palak</td>\n",
       "      <td>15</td>\n",
       "      <td>Kolkata</td>\n",
       "      <td>650</td>\n",
       "      <td>None</td>\n",
       "    </tr>\n",
       "    <tr>\n",
       "      <th>4</th>\n",
       "      <td>4</td>\n",
       "      <td>5</td>\n",
       "      <td>Palak</td>\n",
       "      <td>15</td>\n",
       "      <td>None</td>\n",
       "      <td>50</td>\n",
       "      <td>None</td>\n",
       "    </tr>\n",
       "  </tbody>\n",
       "</table>\n",
       "</div>"
      ],
      "text/plain": [
       "   index  Id    Name  Age    Address  MARKS TESTColumn\n",
       "0      0   1   Rohan   14      Delhi    200       None\n",
       "1      1   2   Allen   14  Bangalore    150       None\n",
       "2      2   3  Martha   15  Hyderabad    250       None\n",
       "3      3   4   Palak   15    Kolkata    650       None\n",
       "4      4   5   Palak   15       None     50       None"
      ]
     },
     "execution_count": 62,
     "metadata": {},
     "output_type": "execute_result"
    }
   ],
   "source": [
    "connection.execute(\"DROP TABLE IF EXISTS school_data\")\n",
    "df.to_sql(name = \"school_data\",con=connection) # name is new table name of dataframe.\n",
    "\n",
    "prev_data = pd.read_sql_query('''SELECT * FROM school_data''',connection)\n",
    "prev_data.head()"
   ]
  },
  {
   "cell_type": "code",
   "execution_count": null,
   "metadata": {},
   "outputs": [],
   "source": []
  },
  {
   "cell_type": "code",
   "execution_count": null,
   "metadata": {},
   "outputs": [],
   "source": []
  },
  {
   "cell_type": "code",
   "execution_count": null,
   "metadata": {},
   "outputs": [],
   "source": []
  },
  {
   "cell_type": "code",
   "execution_count": null,
   "metadata": {},
   "outputs": [],
   "source": []
  },
  {
   "cell_type": "code",
   "execution_count": null,
   "metadata": {},
   "outputs": [],
   "source": []
  },
  {
   "cell_type": "code",
   "execution_count": null,
   "metadata": {},
   "outputs": [],
   "source": []
  },
  {
   "cell_type": "code",
   "execution_count": null,
   "metadata": {},
   "outputs": [],
   "source": []
  },
  {
   "cell_type": "code",
   "execution_count": null,
   "metadata": {},
   "outputs": [],
   "source": []
  },
  {
   "cell_type": "code",
   "execution_count": null,
   "metadata": {},
   "outputs": [],
   "source": []
  },
  {
   "cell_type": "code",
   "execution_count": null,
   "metadata": {},
   "outputs": [],
   "source": []
  },
  {
   "cell_type": "code",
   "execution_count": null,
   "metadata": {},
   "outputs": [],
   "source": []
  },
  {
   "cell_type": "code",
   "execution_count": null,
   "metadata": {},
   "outputs": [],
   "source": []
  },
  {
   "cell_type": "code",
   "execution_count": null,
   "metadata": {},
   "outputs": [],
   "source": []
  },
  {
   "cell_type": "code",
   "execution_count": null,
   "metadata": {},
   "outputs": [],
   "source": []
  },
  {
   "cell_type": "code",
   "execution_count": null,
   "metadata": {},
   "outputs": [],
   "source": []
  },
  {
   "cell_type": "code",
   "execution_count": null,
   "metadata": {},
   "outputs": [],
   "source": []
  },
  {
   "cell_type": "code",
   "execution_count": null,
   "metadata": {},
   "outputs": [],
   "source": []
  },
  {
   "cell_type": "code",
   "execution_count": null,
   "metadata": {},
   "outputs": [],
   "source": []
  },
  {
   "cell_type": "code",
   "execution_count": null,
   "metadata": {},
   "outputs": [],
   "source": []
  },
  {
   "cell_type": "code",
   "execution_count": null,
   "metadata": {},
   "outputs": [],
   "source": []
  },
  {
   "cell_type": "code",
   "execution_count": null,
   "metadata": {},
   "outputs": [],
   "source": []
  },
  {
   "cell_type": "code",
   "execution_count": null,
   "metadata": {},
   "outputs": [],
   "source": []
  }
 ],
 "metadata": {
  "kernelspec": {
   "display_name": "Python 3",
   "language": "python",
   "name": "python3"
  },
  "language_info": {
   "codemirror_mode": {
    "name": "ipython",
    "version": 3
   },
   "file_extension": ".py",
   "mimetype": "text/x-python",
   "name": "python",
   "nbconvert_exporter": "python",
   "pygments_lexer": "ipython3",
   "version": "3.8.0"
  },
  "varInspector": {
   "cols": {
    "lenName": 16,
    "lenType": 16,
    "lenVar": 40
   },
   "kernels_config": {
    "python": {
     "delete_cmd_postfix": "",
     "delete_cmd_prefix": "del ",
     "library": "var_list.py",
     "varRefreshCmd": "print(var_dic_list())"
    },
    "r": {
     "delete_cmd_postfix": ") ",
     "delete_cmd_prefix": "rm(",
     "library": "var_list.r",
     "varRefreshCmd": "cat(var_dic_list()) "
    }
   },
   "types_to_exclude": [
    "module",
    "function",
    "builtin_function_or_method",
    "instance",
    "_Feature"
   ],
   "window_display": false
  }
 },
 "nbformat": 4,
 "nbformat_minor": 2
}
