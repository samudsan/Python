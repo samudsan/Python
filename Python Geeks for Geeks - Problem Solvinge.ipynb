{
 "cells": [
  {
   "cell_type": "markdown",
   "metadata": {},
   "source": [
    "### 1. Leaders in an array\n",
    "\n",
    "\n",
    "problem statement: \n",
    "https://www.geeksforgeeks.org/leaders-in-an-array/\n",
    "\n",
    "Write a program to print all the LEADERS in the array. An element is leader if it is greater than all the elements to its right side. And the rightmost element is always a leader. For example int the array {16, 17, 4, 3, 5, 2}, leaders are 17, 5 and 2.\n",
    "\n",
    "Let the input array be arr[] and size of the array be size."
   ]
  },
  {
   "cell_type": "code",
   "execution_count": 10,
   "metadata": {},
   "outputs": [
    {
     "name": "stdout",
     "output_type": "stream",
     "text": [
      "17 5 2 "
     ]
    }
   ],
   "source": [
    "#using two for loops. Time complexity O(n*n)\n",
    "def print_leaders(list1, length):\n",
    "    for i in range(length):\n",
    "        leader  = True\n",
    "        for j in range(i+1,length):\n",
    "            if(list1[i]<list1[j]):\n",
    "                leader &= False\n",
    "        if(leader):\n",
    "            print(list1[i], end = \" \")\n",
    "                \n",
    "arr=[16, 17, 4, 3, 5, 2] \n",
    "print_leaders(arr, len(arr)) "
   ]
  },
  {
   "cell_type": "code",
   "execution_count": 16,
   "metadata": {},
   "outputs": [
    {
     "name": "stdout",
     "output_type": "stream",
     "text": [
      "2 5 17 "
     ]
    }
   ],
   "source": [
    "#Using single for loop and scanning from right hand.\n",
    "# Time complexity O(n)\n",
    "def print_leaders(list1, length):\n",
    "    maximum  = list1[-1]\n",
    "    for i in range(length-1,0,-1):\n",
    "        if(list1[i] >= maximum):\n",
    "            print(list1[i], end = \" \")\n",
    "            maximum = list1[i]\n",
    "                \n",
    "arr=[16, 17, 4, 3, 5, 2] \n",
    "print_leaders(arr, len(arr)) "
   ]
  },
  {
   "cell_type": "markdown",
   "metadata": {},
   "source": [
    "### 2. Find subarray with given sum (Nonnegative Numbers)\n",
    "\n",
    "Problem Statement: https://www.geeksforgeeks.org/find-subarray-with-given-sum/\n",
    "\n",
    "Given an unsorted array of nonnegative integers, find a continuous subarray which adds to a given number. \n"
   ]
  },
  {
   "cell_type": "code",
   "execution_count": 18,
   "metadata": {
    "pixiedust": {
     "displayParams": {}
    }
   },
   "outputs": [
    {
     "name": "stdout",
     "output_type": "stream",
     "text": [
      "3 3\n",
      "4 6\n"
     ]
    }
   ],
   "source": [
    "list1 = [1,2,4,12,6,2,4]\n",
    "required_sum = 12 \n",
    "curr_sum = 0\n",
    "for i in range(0, len(list1)):\n",
    "    for j in range(i, len(list1)):\n",
    "        curr_sum += list1[j]\n",
    "        if(curr_sum == required_sum):\n",
    "            print(i,j)\n",
    "            break\n",
    "    curr_sum = 0\n",
    "    \n"
   ]
  },
  {
   "cell_type": "code",
   "execution_count": 29,
   "metadata": {},
   "outputs": [
    {
     "name": "stdout",
     "output_type": "stream",
     "text": [
      "4 6\n"
     ]
    }
   ],
   "source": [
    "# evethogh we used two for loops. Time complexity would be O(n)\n",
    "# second for loop runs only few times\n",
    "# it will not work for negative numbers.\n",
    "\n",
    "list1 = [1,2,4,12,6,2,4,7,5]\n",
    "required_sum = 12 \n",
    "curr_sum = list1[0]\n",
    "start = 0\n",
    "for i in range(1, len(list1)):\n",
    "    if curr_sum==required_sum:\n",
    "        print(start, i-1)\n",
    "    while(curr_sum>required_sum and start<i):\n",
    "        curr_sum-=list1[start]\n",
    "        start+=1\n",
    "    curr_sum+= list1[i]\n",
    "    \n"
   ]
  },
  {
   "cell_type": "markdown",
   "metadata": {},
   "source": [
    "3.  Count the triplets \n",
    "\n",
    "Problem Statement: https://practice.geeksforgeeks.org/problems/count-the-triplets/0\n",
    "\n",
    "we call triplets if sum of the two numbers in an array is also in that array. we need to count number of such triplets."
   ]
  },
  {
   "cell_type": "code",
   "execution_count": 5,
   "metadata": {},
   "outputs": [
    {
     "name": "stdout",
     "output_type": "stream",
     "text": [
      "2\n"
     ]
    }
   ],
   "source": [
    "list1 = [1,5,3,2]\n",
    "#list1 = [1,5,7,9] \n",
    "triplet_count = 0\n",
    "for i in range(len(list1)):\n",
    "    for j in range(i+1, len(list1)): # to check only (1,5) (1,3) (1,2) (5,3) (5,2) (3,2)\n",
    "        if list1[i]+list1[j] in list1:\n",
    "            triplet_count+=1\n",
    "if(triplet_count == 0 ):\n",
    "    print(-1)\n",
    "else: \n",
    "    print(triplet_count)"
   ]
  },
  {
   "cell_type": "code",
   "execution_count": null,
   "metadata": {},
   "outputs": [],
   "source": []
  },
  {
   "cell_type": "code",
   "execution_count": null,
   "metadata": {},
   "outputs": [],
   "source": []
  },
  {
   "cell_type": "code",
   "execution_count": null,
   "metadata": {},
   "outputs": [],
   "source": []
  },
  {
   "cell_type": "code",
   "execution_count": null,
   "metadata": {},
   "outputs": [],
   "source": []
  },
  {
   "cell_type": "code",
   "execution_count": null,
   "metadata": {},
   "outputs": [],
   "source": []
  },
  {
   "cell_type": "code",
   "execution_count": null,
   "metadata": {},
   "outputs": [],
   "source": []
  },
  {
   "cell_type": "code",
   "execution_count": null,
   "metadata": {},
   "outputs": [],
   "source": []
  },
  {
   "cell_type": "code",
   "execution_count": null,
   "metadata": {},
   "outputs": [],
   "source": []
  },
  {
   "cell_type": "code",
   "execution_count": null,
   "metadata": {},
   "outputs": [],
   "source": []
  },
  {
   "cell_type": "code",
   "execution_count": null,
   "metadata": {},
   "outputs": [],
   "source": []
  },
  {
   "cell_type": "code",
   "execution_count": null,
   "metadata": {},
   "outputs": [],
   "source": []
  },
  {
   "cell_type": "code",
   "execution_count": null,
   "metadata": {},
   "outputs": [],
   "source": []
  },
  {
   "cell_type": "code",
   "execution_count": null,
   "metadata": {},
   "outputs": [],
   "source": []
  },
  {
   "cell_type": "code",
   "execution_count": null,
   "metadata": {},
   "outputs": [],
   "source": []
  },
  {
   "cell_type": "code",
   "execution_count": null,
   "metadata": {},
   "outputs": [],
   "source": []
  },
  {
   "cell_type": "code",
   "execution_count": null,
   "metadata": {},
   "outputs": [],
   "source": []
  },
  {
   "cell_type": "code",
   "execution_count": null,
   "metadata": {},
   "outputs": [],
   "source": []
  },
  {
   "cell_type": "code",
   "execution_count": null,
   "metadata": {},
   "outputs": [],
   "source": []
  },
  {
   "cell_type": "code",
   "execution_count": null,
   "metadata": {},
   "outputs": [],
   "source": []
  },
  {
   "cell_type": "code",
   "execution_count": null,
   "metadata": {},
   "outputs": [],
   "source": []
  },
  {
   "cell_type": "code",
   "execution_count": null,
   "metadata": {},
   "outputs": [],
   "source": []
  },
  {
   "cell_type": "code",
   "execution_count": null,
   "metadata": {},
   "outputs": [],
   "source": []
  },
  {
   "cell_type": "code",
   "execution_count": null,
   "metadata": {},
   "outputs": [],
   "source": []
  },
  {
   "cell_type": "code",
   "execution_count": null,
   "metadata": {},
   "outputs": [],
   "source": []
  },
  {
   "cell_type": "code",
   "execution_count": null,
   "metadata": {},
   "outputs": [],
   "source": []
  },
  {
   "cell_type": "code",
   "execution_count": null,
   "metadata": {},
   "outputs": [],
   "source": []
  }
 ],
 "metadata": {
  "kernelspec": {
   "display_name": "Python 3",
   "language": "python",
   "name": "python3"
  },
  "language_info": {
   "codemirror_mode": {
    "name": "ipython",
    "version": 3
   },
   "file_extension": ".py",
   "mimetype": "text/x-python",
   "name": "python",
   "nbconvert_exporter": "python",
   "pygments_lexer": "ipython3",
   "version": "3.8.0"
  },
  "varInspector": {
   "cols": {
    "lenName": 16,
    "lenType": 16,
    "lenVar": 40
   },
   "kernels_config": {
    "python": {
     "delete_cmd_postfix": "",
     "delete_cmd_prefix": "del ",
     "library": "var_list.py",
     "varRefreshCmd": "print(var_dic_list())"
    },
    "r": {
     "delete_cmd_postfix": ") ",
     "delete_cmd_prefix": "rm(",
     "library": "var_list.r",
     "varRefreshCmd": "cat(var_dic_list()) "
    }
   },
   "types_to_exclude": [
    "module",
    "function",
    "builtin_function_or_method",
    "instance",
    "_Feature"
   ],
   "window_display": false
  }
 },
 "nbformat": 4,
 "nbformat_minor": 2
}
