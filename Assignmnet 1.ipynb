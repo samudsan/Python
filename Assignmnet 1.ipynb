{
 "cells": [
  {
   "cell_type": "markdown",
   "metadata": {},
   "source": [
    "### 3. Write a program to find out the prime factors of a number. Example: prime factors of 56 -> 2, 2, 2, 7"
   ]
  },
  {
   "cell_type": "code",
   "execution_count": 22,
   "metadata": {},
   "outputs": [
    {
     "name": "stdout",
     "output_type": "stream",
     "text": [
      "234\n",
      "[2, 3, 3, 13]\n"
     ]
    }
   ],
   "source": [
    "n = int(input())\n",
    "facterList = []\n",
    "while(int(n%2)==0):\n",
    "    facterList.append(2)\n",
    "    n = n/2\n",
    "for i in range(3, int(n+1)):\n",
    "    while(int(n%i)==0):\n",
    "        facterList.append(i)\n",
    "        n = n/i\n",
    "print(facterList)"
   ]
  },
  {
   "cell_type": "markdown",
   "metadata": {},
   "source": [
    "### 4. Write a program to implement these formulae of permutations and combinations. Number of permutations of n objects taken r at a time: p(n, r) = n! / (n-r)!. Number of combinations of n objects taken r at a time is: c(n, r) = n! / (r!*(n-r)!) = p(n,r) / r!"
   ]
  },
  {
   "cell_type": "code",
   "execution_count": 5,
   "metadata": {},
   "outputs": [
    {
     "name": "stdout",
     "output_type": "stream",
     "text": [
      "Enter n value5\n",
      "Enter r value5\n",
      "Permutaion nPr :  120.0\n",
      "Combination nCr :  1.0\n"
     ]
    }
   ],
   "source": [
    "import sys\n",
    "def fact(num):\n",
    "    factValue = 1\n",
    "    while(num>1):\n",
    "        factValue *= num\n",
    "        num -=1\n",
    "    return(factValue)\n",
    "\n",
    "#p(n, r) = n! / (n-r)!\n",
    "n = int(input(\"Enter n value\"))\n",
    "r = int(input(\"Enter r value\"))\n",
    "if(r>n):\n",
    "    sys.exit(\"r value should be less than n\")\n",
    "    exit()\n",
    "print(\"Permutaion nPr : \",fact(n)/(fact(n-r)))\n",
    "#c(n, r) = n! / (r!*(n-r)!) = p(n,r) / r!\n",
    "print(\"Combination nCr : \",fact(n)/(fact(n-r)*fact(r)))\n",
    "\n"
   ]
  },
  {
   "cell_type": "markdown",
   "metadata": {},
   "source": [
    "### 5. Write a function that converts a decimal number to binary number"
   ]
  },
  {
   "cell_type": "code",
   "execution_count": null,
   "metadata": {},
   "outputs": [],
   "source": []
  }
 ],
 "metadata": {
  "kernelspec": {
   "display_name": "Python 3",
   "language": "python",
   "name": "python3"
  },
  "language_info": {
   "codemirror_mode": {
    "name": "ipython",
    "version": 3
   },
   "file_extension": ".py",
   "mimetype": "text/x-python",
   "name": "python",
   "nbconvert_exporter": "python",
   "pygments_lexer": "ipython3",
   "version": "3.6.5"
  },
  "varInspector": {
   "cols": {
    "lenName": 16,
    "lenType": 16,
    "lenVar": 40
   },
   "kernels_config": {
    "python": {
     "delete_cmd_postfix": "",
     "delete_cmd_prefix": "del ",
     "library": "var_list.py",
     "varRefreshCmd": "print(var_dic_list())"
    },
    "r": {
     "delete_cmd_postfix": ") ",
     "delete_cmd_prefix": "rm(",
     "library": "var_list.r",
     "varRefreshCmd": "cat(var_dic_list()) "
    }
   },
   "types_to_exclude": [
    "module",
    "function",
    "builtin_function_or_method",
    "instance",
    "_Feature"
   ],
   "window_display": false
  }
 },
 "nbformat": 4,
 "nbformat_minor": 2
}
