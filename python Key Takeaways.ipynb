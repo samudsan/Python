{
 "cells": [
  {
   "cell_type": "markdown",
   "metadata": {},
   "source": [
    "**lists:**\n",
    "\n",
    "append vs insert\n",
    "\n",
    "remove vs pop\n",
    "\n",
    "extend vs + vs +=\n",
    "\n",
    "index()     #gives index of the given list(ex: s.index(\"item\"))\n"
   ]
  },
  {
   "cell_type": "markdown",
   "metadata": {},
   "source": [
    "**Shallow vs Deep Copy**\n",
    "\n",
    "The difference between shallow and deep copying is only relevant for compound objects, i.e. objects containing other objects, like lists or class instances. \n",
    "\n",
    "copying list\n",
    "\n",
    "Copy with the Slice Operator (works as expected till no sublist are available)\n",
    "\n",
    "Using deepcopy method from copy module\n",
    "\n"
   ]
  },
  {
   "cell_type": "markdown",
   "metadata": {},
   "source": [
    "**Dictionary**\n",
    "\n",
    "lists are ordered but dictionaries are not \n",
    "\n",
    "Only immutable data types can be used as keys, i.e. no lists or dictionaries can be used\n",
    "\n",
    "Operators on Dictionaries\n",
    "\n",
    "`len(d)`: returns the number of stored entries, i.e. the number of (key,value) pairs.\n",
    "\n",
    "`del d[k]`: deletes the key k together with his value\n",
    "\n",
    "`k in d`: True, if a key k exists in the dictionary d\n",
    "\n",
    "`k not in d `: True, if a key k doesn't exist in the dictionary d\n",
    "\n",
    "`pop()`  # \n",
    "\n",
    "`popitem() ` #is a method of dict, does not take any parameter, return arbitraty key-value pair\n",
    "\n",
    "`get()` #alternative way of accessing keys of dict, can pass default value if key does not exist\n",
    "\n",
    " dictionary can be copied with the method `copy()`:\n",
    " w = words.copy()\n",
    " \n",
    " Update: Merging Dictionaries : `dict1.update(dict2)`\n",
    " \n",
    " Iterating over a Dictionary : it can be done in two ways'\n",
    " `for key in dict1`\n",
    " \n",
    " `for key in dict1.keys()` Both gives same results(keys)\n",
    " \n",
    " `for val in dict1.values()`: for iterating directly through values\n",
    " \n",
    "Connection between Lists and Dictionaries\n",
    "\n",
    "Lists from Dictionaries\n",
    "\n",
    "`keys()`\n",
    "`values()`\n",
    "`items()`\n",
    "\n",
    " \n",
    " \n",
    "\n",
    "\n",
    "\n"
   ]
  }
 ],
 "metadata": {
  "kernelspec": {
   "display_name": "Python 3",
   "language": "python",
   "name": "python3"
  },
  "language_info": {
   "codemirror_mode": {
    "name": "ipython",
    "version": 3
   },
   "file_extension": ".py",
   "mimetype": "text/x-python",
   "name": "python",
   "nbconvert_exporter": "python",
   "pygments_lexer": "ipython3",
   "version": "3.7.1"
  }
 },
 "nbformat": 4,
 "nbformat_minor": 2
}
