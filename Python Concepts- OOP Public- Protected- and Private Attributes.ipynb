{
 "cells": [
  {
   "cell_type": "markdown",
   "metadata": {},
   "source": [
    "\n",
    "    name \tPublic These attributes can be freely used inside or outside of a class definition.\n",
    "    \n",
    "    _name \tProtected Protected attributes should not be used outside of the class definition, unless inside of a subclass definition.\n",
    "    \n",
    "    __name  Private This kind of attribute is inaccessible and invisible. It's neither possible to read nor write to those attributes, except inside of the class definition itself.\n"
   ]
  },
  {
   "cell_type": "code",
   "execution_count": 6,
   "metadata": {},
   "outputs": [
    {
     "name": "stdout",
     "output_type": "stream",
     "text": [
      "I am public\n",
      "I am protected\n"
     ]
    },
    {
     "ename": "AttributeError",
     "evalue": "'A' object has no attribute '__priv'",
     "output_type": "error",
     "traceback": [
      "\u001b[0;31m---------------------------------------------------------------------------\u001b[0m",
      "\u001b[0;31mAttributeError\u001b[0m                            Traceback (most recent call last)",
      "\u001b[0;32m<ipython-input-6-526e3fe3fbdf>\u001b[0m in \u001b[0;36m<module>\u001b[0;34m()\u001b[0m\n\u001b[1;32m      9\u001b[0m \u001b[0mprint\u001b[0m\u001b[0;34m(\u001b[0m\u001b[0mx\u001b[0m\u001b[0;34m.\u001b[0m\u001b[0mpub\u001b[0m\u001b[0;34m)\u001b[0m\u001b[0;34m\u001b[0m\u001b[0m\n\u001b[1;32m     10\u001b[0m \u001b[0mprint\u001b[0m\u001b[0;34m(\u001b[0m\u001b[0mx\u001b[0m\u001b[0;34m.\u001b[0m\u001b[0m_prot\u001b[0m\u001b[0;34m)\u001b[0m\u001b[0;34m\u001b[0m\u001b[0m\n\u001b[0;32m---> 11\u001b[0;31m \u001b[0mprint\u001b[0m\u001b[0;34m(\u001b[0m\u001b[0mx\u001b[0m\u001b[0;34m.\u001b[0m\u001b[0m__priv\u001b[0m\u001b[0;34m)\u001b[0m  \u001b[0;31m#it is perfect data hiding because when we execute this, we will not know if variable exist or not\u001b[0m\u001b[0;34m\u001b[0m\u001b[0m\n\u001b[0m",
      "\u001b[0;31mAttributeError\u001b[0m: 'A' object has no attribute '__priv'"
     ]
    }
   ],
   "source": [
    "class A():\n",
    "    \n",
    "    def __init__(self):\n",
    "        self.__priv = \"I am private\"\n",
    "        self._prot = \"I am protected\"\n",
    "        self.pub = \"I am public\"\n",
    "\n",
    "x = A()\n",
    "print(x.pub)\n",
    "print(x._prot)\n",
    "print(x.__priv)  #it is perfect data hiding because when we execute this, we will not know if variable exist or not"
   ]
  },
  {
   "cell_type": "markdown",
   "metadata": {},
   "source": [
    "Though we have Getter and Setter methods for the name attribute, we can access the attribute directly as well, because we have defined them as **public** attributes. **Data Encapsulation means, that we should only be able to access private attributes via getters and setters. **"
   ]
  },
  {
   "cell_type": "code",
   "execution_count": 7,
   "metadata": {},
   "outputs": [
    {
     "name": "stdout",
     "output_type": "stream",
     "text": [
      "Hi, I am Marvin\n",
      "I was built in the year 1979!\n",
      "Hi, I am Caliban\n",
      "I was built in the year 1993!\n"
     ]
    }
   ],
   "source": [
    "class Robot:\n",
    " \n",
    "    def __init__(self, name=None, build_year=2000):\n",
    "        self.__name = name # private variable\n",
    "        self.__build_year = build_year # private variable\n",
    "        \n",
    "    def say_hi(self):\n",
    "        if self.__name:\n",
    "            print(\"Hi, I am \" + self.__name)\n",
    "        else:\n",
    "            print(\"Hi, I am a robot without a name\")\n",
    "            \n",
    "    def set_name(self, name):\n",
    "        self.__name = name\n",
    "        \n",
    "    def get_name(self):\n",
    "        return self.__name    \n",
    "\n",
    "    def set_build_year(self, by):\n",
    "        self.__build_year = by\n",
    "        \n",
    "    def get_build_year(self):\n",
    "        return self.__build_year    \n",
    "    \n",
    "    def __repr__(self):\n",
    "        return \"Robot('\" + self.__name + \"', \" +  str(self.__build_year) +  \")\"\n",
    "\n",
    "    def __str__(self):\n",
    "        return \"Name: \" + self.__name + \", Build Year: \" +  str(self.__build_year)\n",
    "\n",
    "     \n",
    "if __name__ == \"__main__\":\n",
    "    x = Robot(\"Marvin\", 1979)\n",
    "    y = Robot(\"Caliban\", 1943)\n",
    "    for rob in [x, y]:\n",
    "        rob.say_hi()\n",
    "        if rob.get_name() == \"Caliban\":\n",
    "            rob.set_build_year(1993)\n",
    "        print(\"I was built in the year \" + str(rob.get_build_year()) + \"!\")"
   ]
  },
  {
   "cell_type": "markdown",
   "metadata": {},
   "source": [
    "### Destructor"
   ]
  },
  {
   "cell_type": "markdown",
   "metadata": {},
   "source": [
    "    What we said about constructors holds true for destructors as well. There is no \"real\" destructor, but something similar, i.e. the method __del__. It is called when the instance is about to be destroyed and if there is no other reference to this instance. If a base class has a __del__() method, the derived class's __del__() method, if any, must explicitly call it to ensure proper deletion of the base class part of the instance.\n",
    "\n",
    "    The following script is an example with __init__ and __del__:\n"
   ]
  },
  {
   "cell_type": "code",
   "execution_count": 9,
   "metadata": {},
   "outputs": [
    {
     "name": "stdout",
     "output_type": "stream",
     "text": [
      "Tik-Tok has been created!\n",
      "Jenkins has been created!\n",
      "Deleting x\n",
      "Deleting z\n",
      "Robot has been destroyed\n",
      "Robot has been destroyed\n"
     ]
    }
   ],
   "source": [
    "class Robot():\n",
    "    \n",
    "    def __init__(self, name):\n",
    "        print(name + \" has been created!\")\n",
    "        \n",
    "    def __del__(self):\n",
    "        print (\"Robot has been destroyed\")\n",
    "        \n",
    "        \n",
    "if __name__ == \"__main__\":\n",
    "    x = Robot(\"Tik-Tok\")\n",
    "    y = Robot(\"Jenkins\")\n",
    "    z = x\n",
    "    print(\"Deleting x\")\n",
    "    del x\n",
    "    print(\"Deleting z\")\n",
    "    del z\n",
    "    del y"
   ]
  },
  {
   "cell_type": "code",
   "execution_count": null,
   "metadata": {},
   "outputs": [],
   "source": []
  },
  {
   "cell_type": "code",
   "execution_count": null,
   "metadata": {},
   "outputs": [],
   "source": []
  },
  {
   "cell_type": "code",
   "execution_count": null,
   "metadata": {},
   "outputs": [],
   "source": []
  },
  {
   "cell_type": "code",
   "execution_count": null,
   "metadata": {},
   "outputs": [],
   "source": []
  },
  {
   "cell_type": "code",
   "execution_count": null,
   "metadata": {},
   "outputs": [],
   "source": []
  },
  {
   "cell_type": "code",
   "execution_count": null,
   "metadata": {},
   "outputs": [],
   "source": []
  },
  {
   "cell_type": "code",
   "execution_count": null,
   "metadata": {},
   "outputs": [],
   "source": []
  },
  {
   "cell_type": "code",
   "execution_count": null,
   "metadata": {},
   "outputs": [],
   "source": []
  },
  {
   "cell_type": "code",
   "execution_count": null,
   "metadata": {},
   "outputs": [],
   "source": []
  },
  {
   "cell_type": "code",
   "execution_count": null,
   "metadata": {},
   "outputs": [],
   "source": []
  },
  {
   "cell_type": "code",
   "execution_count": null,
   "metadata": {},
   "outputs": [],
   "source": []
  },
  {
   "cell_type": "code",
   "execution_count": null,
   "metadata": {},
   "outputs": [],
   "source": []
  },
  {
   "cell_type": "code",
   "execution_count": null,
   "metadata": {},
   "outputs": [],
   "source": []
  },
  {
   "cell_type": "code",
   "execution_count": null,
   "metadata": {},
   "outputs": [],
   "source": []
  },
  {
   "cell_type": "code",
   "execution_count": null,
   "metadata": {},
   "outputs": [],
   "source": []
  },
  {
   "cell_type": "markdown",
   "metadata": {},
   "source": [
    "Ref : https://www.python-course.eu/python3_object_oriented_programming.php\n"
   ]
  }
 ],
 "metadata": {
  "kernelspec": {
   "display_name": "Python 3",
   "language": "python",
   "name": "python3"
  },
  "language_info": {
   "codemirror_mode": {
    "name": "ipython",
    "version": 3
   },
   "file_extension": ".py",
   "mimetype": "text/x-python",
   "name": "python",
   "nbconvert_exporter": "python",
   "pygments_lexer": "ipython3",
   "version": "3.8.0"
  },
  "varInspector": {
   "cols": {
    "lenName": 16,
    "lenType": 16,
    "lenVar": 40
   },
   "kernels_config": {
    "python": {
     "delete_cmd_postfix": "",
     "delete_cmd_prefix": "del ",
     "library": "var_list.py",
     "varRefreshCmd": "print(var_dic_list())"
    },
    "r": {
     "delete_cmd_postfix": ") ",
     "delete_cmd_prefix": "rm(",
     "library": "var_list.r",
     "varRefreshCmd": "cat(var_dic_list()) "
    }
   },
   "types_to_exclude": [
    "module",
    "function",
    "builtin_function_or_method",
    "instance",
    "_Feature"
   ],
   "window_display": false
  }
 },
 "nbformat": 4,
 "nbformat_minor": 2
}
