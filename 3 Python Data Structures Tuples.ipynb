{
 "cells": [
  {
   "cell_type": "markdown",
   "metadata": {},
   "source": [
    "### Tuple Creation"
   ]
  },
  {
   "cell_type": "markdown",
   "metadata": {},
   "source": [
    "Tuples are `immutable` unlike lists\n",
    "\n",
    "The diffence between the two is that we can't change the elements of tuple once it is assigned whereas in the list, elements can be changed\n",
    "\n",
    "Tuple are `Ordered`. That means we can get the element of tuples using index"
   ]
  },
  {
   "cell_type": "code",
   "execution_count": 6,
   "metadata": {},
   "outputs": [
    {
     "name": "stdout",
     "output_type": "stream",
     "text": [
      "(1, 2, 3, 4, 5, 'can have strings')\n",
      "starting element of the tuple: 2\n"
     ]
    }
   ],
   "source": [
    "tup = (1,2,3,4,5, \"can have strings\")\n",
    "print(tup)\n",
    "print(\"starting element of the tuple:\", tup[1])\n"
   ]
  },
  {
   "cell_type": "markdown",
   "metadata": {},
   "source": [
    "### Tuple (single element conflict)"
   ]
  },
  {
   "cell_type": "code",
   "execution_count": 12,
   "metadata": {},
   "outputs": [
    {
     "name": "stdout",
     "output_type": "stream",
     "text": [
      "<class 'str'>\n",
      "<class 'tuple'>\n"
     ]
    }
   ],
   "source": [
    "tuple1 = (\"here I am not tuple\") # It will be considered as String NOT TUPLE\n",
    "print(type(tuple1))\n",
    "\n",
    "tuple2 = (\"here I am tuple because of Comma\",) # It will be considered as TUPLE because of comma at the end\n",
    "print(type(tuple2))"
   ]
  },
  {
   "cell_type": "markdown",
   "metadata": {},
   "source": [
    "### we can have every action using tuples similar to list except mutation of tuple"
   ]
  },
  {
   "cell_type": "markdown",
   "metadata": {},
   "source": [
    "### Tuple Concatenation"
   ]
  },
  {
   "cell_type": "code",
   "execution_count": 15,
   "metadata": {},
   "outputs": [
    {
     "name": "stdout",
     "output_type": "stream",
     "text": [
      "('a', 'b', 'c', 'd', 1, 3, 4, 5, 4, 34)\n"
     ]
    }
   ],
   "source": [
    "tup1 = ('a','b','c','d')\n",
    "tup2 = (1,3,4,5,4,34,)\n",
    "print(tup1 + tup2)"
   ]
  },
  {
   "cell_type": "markdown",
   "metadata": {},
   "source": [
    "### Built in Functions"
   ]
  },
  {
   "cell_type": "code",
   "execution_count": 16,
   "metadata": {},
   "outputs": [
    {
     "name": "stdout",
     "output_type": "stream",
     "text": [
      "6\n",
      "9\n",
      "1\n"
     ]
    }
   ],
   "source": [
    "t = (1, 2, 3, 4, 5, 6)\n",
    "print(len(t))\n",
    "\n",
    "\n",
    "#get the largest element in a tuple\n",
    "t = (2, 5, 1, 6, 9)\n",
    "print(max(t))\n",
    "\n",
    "#get the smallest element in a tuple\n",
    "print(min(t))"
   ]
  },
  {
   "cell_type": "markdown",
   "metadata": {},
   "source": [
    "### Tuple Sort"
   ]
  },
  {
   "cell_type": "code",
   "execution_count": 17,
   "metadata": {},
   "outputs": [
    {
     "name": "stdout",
     "output_type": "stream",
     "text": [
      "[1, 2, 3, 4, 5]\n"
     ]
    }
   ],
   "source": [
    "t = (4, 5, 1, 2, 3)\n",
    "\n",
    "new_t = sorted(t)\n",
    "print(new_t) #Take elements in the tuple and return a new sorted list \n",
    "             #(does not sort the tuple itself)."
   ]
  }
 ],
 "metadata": {
  "kernelspec": {
   "display_name": "Python 3",
   "language": "python",
   "name": "python3"
  },
  "language_info": {
   "codemirror_mode": {
    "name": "ipython",
    "version": 3
   },
   "file_extension": ".py",
   "mimetype": "text/x-python",
   "name": "python",
   "nbconvert_exporter": "python",
   "pygments_lexer": "ipython3",
   "version": "3.6.5"
  },
  "varInspector": {
   "cols": {
    "lenName": 16,
    "lenType": 16,
    "lenVar": 40
   },
   "kernels_config": {
    "python": {
     "delete_cmd_postfix": "",
     "delete_cmd_prefix": "del ",
     "library": "var_list.py",
     "varRefreshCmd": "print(var_dic_list())"
    },
    "r": {
     "delete_cmd_postfix": ") ",
     "delete_cmd_prefix": "rm(",
     "library": "var_list.r",
     "varRefreshCmd": "cat(var_dic_list()) "
    }
   },
   "types_to_exclude": [
    "module",
    "function",
    "builtin_function_or_method",
    "instance",
    "_Feature"
   ],
   "window_display": false
  }
 },
 "nbformat": 4,
 "nbformat_minor": 2
}
